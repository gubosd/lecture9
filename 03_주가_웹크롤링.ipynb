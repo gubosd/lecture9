{
 "cells": [
  {
   "attachments": {},
   "cell_type": "markdown",
   "metadata": {},
   "source": [
    "## 파이썬을 활용한 업무자동화 (한국과학창의재단)\n",
    "# 주가 웹크롤링\n",
    "- BeautifulSoup 설치\n",
    "> - pip install bs4 (아나콘다는 기본 탑재)\n",
    "- BeautifulSoup 튜토리얼\n",
    "> - 영어 : https://www.crummy.com/software/BeautifulSoup/bs4/doc/<br>\n",
    "> - 한글 : https://web.archive.org/web/20150319200824/http://coreapython.hosting.paran.com/etc/beautifulsoup4.html\n",
    "- 네이버 주가\n",
    "> - https://finance.naver.com/item/main.nhn?code=005930 (삼성전자)\n",
    "> - https://finance.naver.com/item/sise_day.nhn?code=005930 (정보 페이지)"
   ]
  },
  {
   "cell_type": "code",
   "execution_count": 1,
   "metadata": {},
   "outputs": [],
   "source": [
    "import numpy as np\n",
    "import matplotlib.pyplot as plt\n",
    "import pandas as pd"
   ]
  },
  {
   "cell_type": "markdown",
   "metadata": {},
   "source": [
    "### urllib 로 HTML 문서 불러오기"
   ]
  },
  {
   "cell_type": "code",
   "execution_count": 2,
   "metadata": {},
   "outputs": [],
   "source": [
    "from urllib.request import urlopen"
   ]
  },
  {
   "cell_type": "code",
   "execution_count": 3,
   "metadata": {},
   "outputs": [],
   "source": [
    "url = urlopen('https://finance.naver.com/item/sise_day.nhn?code=005930')"
   ]
  },
  {
   "cell_type": "code",
   "execution_count": 4,
   "metadata": {},
   "outputs": [],
   "source": [
    "html = url.read()"
   ]
  },
  {
   "cell_type": "code",
   "execution_count": 5,
   "metadata": {},
   "outputs": [
    {
     "data": {
      "text/plain": [
       "bytes"
      ]
     },
     "execution_count": 5,
     "metadata": {},
     "output_type": "execute_result"
    }
   ],
   "source": [
    "type(html)"
   ]
  },
  {
   "cell_type": "code",
   "execution_count": 6,
   "metadata": {},
   "outputs": [
    {
     "data": {
      "text/plain": [
       "'\\n\\n\\n\\n\\n\\n\\n<html lang=\"ko\">\\n<head>\\n<meta http-equiv=\"Content-Type\" content=\"text/html; charset=euc-kr\">\\n<title>네이버 금융</title>\\n<link rel=\"stylesheet\" type=\"text/css\" href=\"/css/newstock.css?20191106174226\">\\n<link rel=\"stylesheet\" type=\"text/css\" href=\"/css/common.css?20191106174226\">\\n<link rel=\"stylesheet\" type=\"text/css\" href=\"/css/layout.css?20191106174226\">\\n<link rel=\"stylesheet\" type=\"text/css\" href=\"/css/main.css?20191106174226\">\\n<link rel=\"stylesheet\" type=\"text/css\" href=\"/css/newstock2.css?20191106174226\">\\n<link rel=\"stylesheet\" type=\"text/css\" href=\"/css/newstock3.css?20191106174226\">\\n<link rel=\"stylesheet\" type=\"text/css\" href=\"/css/world.css?20191106174226\">\\n</head>\\n<body>\\n<script language=\"JavaScript\">\\nfunction mouseOver(obj){\\n  obj.style.backgroundColor=\"#f6f4e5\";\\n}\\nfunction mouseOut(obj){\\n  obj.style.backgroundColor=\"#ffffff\";\\n}\\n</script>\\n\\t\\t\\t\\t<h4 class=\"tlline2\"><strong><span class=\"red03\">일별</span>시세</strong></h4>\\t\\t\\t\\n\\t\\t\\t\\t<table cellspacing=\"0\" class=\"type2\">\\n\\t\\t\\t\\t<tr>\\n\\t\\t\\t\\t<th>날짜</th>\\n\\t\\t\\t\\t<th>종가</th>\\n\\t\\t\\t\\t<th>전일비</th>\\n\\t\\t\\t\\t<th>시가</th>\\n\\t\\t\\t\\t<th>고가</th>\\n\\t\\t\\t\\t<th>저가</th>\\n\\t\\t\\t\\t<th>거래량</th>\\n\\t\\t\\t\\t</tr>\\n\\t\\t\\t\\t<tr>\\n\\t\\t\\t\\t<td colspan=\"7\" height=\"8\"></td>\\n\\t\\t\\t\\t</tr>\\n\\n\\n\\t\\n\\t\\t\\t\\t<tr onMouseOver=\"mouseOver(this)\" onMouseOut=\"mouseOut(this)\">\\n\\t\\t\\t\\t<td align=\"center\"><span class=\"tah p10 gray03\">2019.11.12</span></td>\\n\\t\\t\\t\\t<td class=\"num\"><span class=\"tah p11\">52,100</span></td>\\n\\t\\t\\t\\t<td class=\"num\">\\n\\t\\t\\t\\t<img src=\"https://ssl.pstatic.net/imgstock/images/images4/ico_up.gif\" width=\"7\" height=\"6\" style=\"margin-right:4px;\" alt=\"상승\"><span class=\"tah p11 red02\">\\n\\t\\t\\t\\t500\\n\\t\\t\\t\\t</span>\\n\\t\\t\\t</td>\\n\\t\\t\\t\\t<td class=\"num\"><span class=\"tah p11\">51,800</span></td>\\n\\t\\t\\t\\t<td class=\"num\"><span class=\"tah p11\">52,200</span></td>\\n\\t\\t\\t\\t<td class=\"num\"><span class=\"tah p11\">51,600</span></td>\\n\\t\\t\\t\\t<td class=\"num\"><span class=\"tah p11\">3,810,994</span></td>\\n\\t\\t\\t\\t</tr>\\n\\t\\t\\n\\t\\t\\t\\n\\t\\t\\t\\t\\n\\t\\t\\t\\t\\t<tr onMouseOver=\"mouseOver(this)\" onMouseOut=\"mouseOut(this)\">\\n\\t\\t\\t\\t\\t<td align=\"center\"><span class=\"tah p10 gray03\">2019.11.11</span></td>\\n\\t\\t\\t\\t\\t<td class=\"num\"><span class=\"tah p11\">51,600</span></td>\\n\\t\\t\\t\\t\\t<td class=\"num\">\\n\\t\\t\\t\\t<img src=\"https://ssl.pstatic.net/imgstock/images/images4/ico_down.gif\" width=\"7\" height=\"6\" style=\"margin-right:4px;\" alt=\"하락\"><span class=\"tah p11 nv01\">\\n\\t\\t\\t\\t500\\n\\t\\t\\t\\t</span>\\n\\t\\t\\t</td>\\n\\t\\t\\t\\t\\t<td class=\"num\"><span class=\"tah p11\">52,200</span></td>\\n\\t\\t\\t\\t\\t<td class=\"num\"><span class=\"tah p11\">52,200</span></td>\\n\\t\\t\\t\\t\\t<td class=\"num\"><span class=\"tah p11\">51,400</span></td>\\n\\t\\t\\t\\t\\t<td class=\"num\"><span class=\"tah p11\">8,185,952</span></td>\\n\\t\\t\\t\\t\\t</tr>\\n\\t\\t\\t\\t\\n\\t\\t\\t\\t\\n\\t\\t\\t\\n\\t\\t\\t\\n\\t\\t\\t\\n\\t\\t\\t\\n\\t\\t\\t\\n\\t\\n\\t\\t\\n\\t\\t\\t\\n\\t\\t\\t\\t\\n\\t\\t\\t\\t\\t<tr onMouseOver=\"mouseOver(this)\" onMouseOut=\"mouseOut(this)\">\\n\\t\\t\\t\\t\\t<td align=\"center\"><span class=\"tah p10 gray03\">2019.11.08</span></td>\\n\\t\\t\\t\\t\\t<td class=\"num\"><span class=\"tah p11\">52,100</span></td>\\n\\t\\t\\t\\t\\t<td class=\"num\">\\n\\t\\t\\t\\t<img src=\"https://ssl.pstatic.net/imgstock/images/images4/ico_down.gif\" width=\"7\" height=\"6\" style=\"margin-right:4px;\" alt=\"하락\"><span class=\"tah p11 nv01\">\\n\\t\\t\\t\\t800\\n\\t\\t\\t\\t</span>\\n\\t\\t\\t</td>\\n\\t\\t\\t\\t\\t<td class=\"num\"><span class=\"tah p11\">53,200</span></td>\\n\\t\\t\\t\\t\\t<td class=\"num\"><span class=\"tah p11\">53,300</span></td>\\n\\t\\t\\t\\t\\t<td class=\"num\"><span class=\"tah p11\">52,000</span></td>\\n\\t\\t\\t\\t\\t<td class=\"num\"><span class=\"tah p11\">11,603,290</span></td>\\n\\t\\t\\t\\t\\t</tr>\\n\\t\\t\\t\\t\\n\\t\\t\\t\\t\\n\\t\\t\\t\\n\\t\\t\\t\\n\\t\\t\\t\\n\\t\\t\\t\\n\\t\\t\\t\\n\\t\\n\\t\\t\\n\\t\\t\\t\\n\\t\\t\\t\\t\\n\\t\\t\\t\\t\\t<tr onMouseOver=\"mouseOver(this)\" onMouseOut=\"mouseOut(this)\">\\n\\t\\t\\t\\t\\t<td align=\"center\"><span class=\"tah p10 gray03\">2019.11.07</span></td>\\n\\t\\t\\t\\t\\t<td class=\"num\"><span class=\"tah p11\">52,900</span></td>\\n\\t\\t\\t\\t\\t<td class=\"num\">\\n\\t\\t\\t\\t<img src=\"https://ssl.pstatic.net/imgstock/images/images4/ico_down.gif\" width=\"7\" height=\"6\" style=\"margin-right:4px;\" alt=\"하락\"><span class=\"tah p11 nv01\">\\n\\t\\t\\t\\t400\\n\\t\\t\\t\\t</span>\\n\\t\\t\\t</td>\\n\\t\\t\\t\\t\\t<td class=\"num\"><span class=\"tah p11\">53,400</span></td>\\n\\t\\t\\t\\t\\t<td class=\"num\"><span class=\"tah p11\">53,400</span></td>\\n\\t\\t\\t\\t\\t<td class=\"num\"><span class=\"tah p11\">52,400</span></td>\\n\\t\\t\\t\\t\\t<td class=\"num\"><span class=\"tah p11\">9,257,116</span></td>\\n\\t\\t\\t\\t\\t</tr>\\n\\t\\t\\t\\t\\n\\t\\t\\t\\t\\n\\t\\t\\t\\n\\t\\t\\t\\n\\t\\t\\t\\n\\t\\t\\t\\n\\t\\t\\t\\n\\t\\n\\t\\t\\n\\t\\t\\t\\n\\t\\t\\t\\t\\n\\t\\t\\t\\t\\t<tr onMouseOver=\"mouseOver(this)\" onMouseOut=\"mouseOut(this)\">\\n\\t\\t\\t\\t\\t<td align=\"center\"><span class=\"tah p10 gray03\">2019.11.06</span></td>\\n\\t\\t\\t\\t\\t<td class=\"num\"><span class=\"tah p11\">53,300</span></td>\\n\\t\\t\\t\\t\\t<td class=\"num\">\\n\\t\\t\\t\\t<img src=\"https://ssl.pstatic.net/imgstock/images/images4/ico_up.gif\" width=\"7\" height=\"6\" style=\"margin-right:4px;\" alt=\"상승\"><span class=\"tah p11 red02\">\\n\\t\\t\\t\\t600\\n\\t\\t\\t\\t</span>\\n\\t\\t\\t</td>\\n\\t\\t\\t\\t\\t<td class=\"num\"><span class=\"tah p11\">52,900</span></td>\\n\\t\\t\\t\\t\\t<td class=\"num\"><span class=\"tah p11\">53,500</span></td>\\n\\t\\t\\t\\t\\t<td class=\"num\"><span class=\"tah p11\">52,700</span></td>\\n\\t\\t\\t\\t\\t<td class=\"num\"><span class=\"tah p11\">14,361,133</span></td>\\n\\t\\t\\t\\t\\t</tr>\\n\\t\\t\\t\\t\\n\\t\\t\\t\\t\\n\\t\\t\\t\\n\\t\\t\\t\\n\\t\\t\\t\\n\\t\\t\\t\\n\\t\\t\\t\\t<tr>\\n\\t\\t\\t\\t<td colspan=\"7\" height=\"8\"></td>\\n\\t\\t\\t\\t</tr>\\n\\t\\t\\t\\t<tr>\\n\\t\\t\\t\\t<td colspan=\"7\" height=\"1\" bgcolor=\"#e1e1e1\"></td>\\n\\t\\t\\t\\t</tr>\\n\\t\\t\\t\\t<tr>\\n\\t\\t\\t\\t<td colspan=\"7\" height=\"8\"></td>\\n\\t\\t\\t\\t</tr>\\n\\t\\t\\t\\n\\t\\t\\t\\n\\t\\n\\t\\t\\n\\t\\t\\t\\n\\t\\t\\t\\t\\n\\t\\t\\t\\t\\t<tr onMouseOver=\"mouseOver(this)\" onMouseOut=\"mouseOut(this)\">\\n\\t\\t\\t\\t\\t<td align=\"center\"><span class=\"tah p10 gray03\">2019.11.05</span></td>\\n\\t\\t\\t\\t\\t<td class=\"num\"><span class=\"tah p11\">52,700</span></td>\\n\\t\\t\\t\\t\\t<td class=\"num\">\\n\\t\\t\\t\\t<img src=\"https://ssl.pstatic.net/imgstock/images/images4/ico_up.gif\" width=\"7\" height=\"6\" style=\"margin-right:4px;\" alt=\"상승\"><span class=\"tah p11 red02\">\\n\\t\\t\\t\\t400\\n\\t\\t\\t\\t</span>\\n\\t\\t\\t</td>\\n\\t\\t\\t\\t\\t<td class=\"num\"><span class=\"tah p11\">52,400</span></td>\\n\\t\\t\\t\\t\\t<td class=\"num\"><span class=\"tah p11\">52,700</span></td>\\n\\t\\t\\t\\t\\t<td class=\"num\"><span class=\"tah p11\">52,100</span></td>\\n\\t\\t\\t\\t\\t<td class=\"num\"><span class=\"tah p11\">10,581,034</span></td>\\n\\t\\t\\t\\t\\t</tr>\\n\\t\\t\\t\\t\\n\\t\\t\\t\\t\\n\\t\\t\\t\\n\\t\\t\\t\\n\\t\\t\\t\\n\\t\\t\\t\\n\\t\\t\\t\\n\\t\\n\\t\\t\\n\\t\\t\\t\\n\\t\\t\\t\\t\\n\\t\\t\\t\\t\\t<tr onMouseOver=\"mouseOver(this)\" onMouseOut=\"mouseOut(this)\">\\n\\t\\t\\t\\t\\t<td align=\"center\"><span class=\"tah p10 gray03\">2019.11.04</span></td>\\n\\t\\t\\t\\t\\t<td class=\"num\"><span class=\"tah p11\">52,300</span></td>\\n\\t\\t\\t\\t\\t<td class=\"num\">\\n\\t\\t\\t\\t<img src=\"https://ssl.pstatic.net/imgstock/images/images4/ico_up.gif\" width=\"7\" height=\"6\" style=\"margin-right:4px;\" alt=\"상승\"><span class=\"tah p11 red02\">\\n\\t\\t\\t\\t1,100\\n\\t\\t\\t\\t</span>\\n\\t\\t\\t</td>\\n\\t\\t\\t\\t\\t<td class=\"num\"><span class=\"tah p11\">51,700</span></td>\\n\\t\\t\\t\\t\\t<td class=\"num\"><span class=\"tah p11\">52,300</span></td>\\n\\t\\t\\t\\t\\t<td class=\"num\"><span class=\"tah p11\">51,400</span></td>\\n\\t\\t\\t\\t\\t<td class=\"num\"><span class=\"tah p11\">13,012,411</span></td>\\n\\t\\t\\t\\t\\t</tr>\\n\\t\\t\\t\\t\\n\\t\\t\\t\\t\\n\\t\\t\\t\\n\\t\\t\\t\\n\\t\\t\\t\\n\\t\\t\\t\\n\\t\\t\\t\\n\\t\\n\\t\\t\\n\\t\\t\\t\\n\\t\\t\\t\\t\\n\\t\\t\\t\\t\\t<tr onMouseOver=\"mouseOver(this)\" onMouseOut=\"mouseOut(this)\">\\n\\t\\t\\t\\t\\t<td align=\"center\"><span class=\"tah p10 gray03\">2019.11.01</span></td>\\n\\t\\t\\t\\t\\t<td class=\"num\"><span class=\"tah p11\">51,200</span></td>\\n\\t\\t\\t\\t\\t<td class=\"num\">\\n\\t\\t\\t\\t<img src=\"https://ssl.pstatic.net/imgstock/images/images4/ico_up.gif\" width=\"7\" height=\"6\" style=\"margin-right:4px;\" alt=\"상승\"><span class=\"tah p11 red02\">\\n\\t\\t\\t\\t800\\n\\t\\t\\t\\t</span>\\n\\t\\t\\t</td>\\n\\t\\t\\t\\t\\t<td class=\"num\"><span class=\"tah p11\">50,600</span></td>\\n\\t\\t\\t\\t\\t<td class=\"num\"><span class=\"tah p11\">51,200</span></td>\\n\\t\\t\\t\\t\\t<td class=\"num\"><span class=\"tah p11\">50,400</span></td>\\n\\t\\t\\t\\t\\t<td class=\"num\"><span class=\"tah p11\">8,467,846</span></td>\\n\\t\\t\\t\\t\\t</tr>\\n\\t\\t\\t\\t\\n\\t\\t\\t\\t\\n\\t\\t\\t\\n\\t\\t\\t\\n\\t\\t\\t\\n\\t\\t\\t\\n\\t\\t\\t\\n\\t\\n\\t\\t\\n\\t\\t\\t\\n\\t\\t\\t\\t\\n\\t\\t\\t\\t\\t<tr onMouseOver=\"mouseOver(this)\" onMouseOut=\"mouseOut(this)\">\\n\\t\\t\\t\\t\\t<td align=\"center\"><span class=\"tah p10 gray03\">2019.10.31</span></td>\\n\\t\\t\\t\\t\\t<td class=\"num\"><span class=\"tah p11\">50,400</span></td>\\n\\t\\t\\t\\t\\t<td class=\"num\">\\n\\t\\t\\t\\t<span class=\"tah p11\">0</span>\\n\\t\\t\\t</td>\\n\\t\\t\\t\\t\\t<td class=\"num\"><span class=\"tah p11\">51,000</span></td>\\n\\t\\t\\t\\t\\t<td class=\"num\"><span class=\"tah p11\">51,400</span></td>\\n\\t\\t\\t\\t\\t<td class=\"num\"><span class=\"tah p11\">50,300</span></td>\\n\\t\\t\\t\\t\\t<td class=\"num\"><span class=\"tah p11\">10,304,777</span></td>\\n\\t\\t\\t\\t\\t</tr>\\n\\t\\t\\t\\t\\n\\t\\t\\t\\t\\n\\t\\t\\t\\n\\t\\t\\t\\n\\t\\t\\t\\n\\t\\t\\t\\n\\t\\t\\t\\n\\t\\n\\t\\t\\n\\t\\t\\t\\n\\t\\t\\t\\t\\n\\t\\t\\t\\t\\t<tr onMouseOver=\"mouseOver(this)\" onMouseOut=\"mouseOut(this)\">\\n\\t\\t\\t\\t\\t<td align=\"center\"><span class=\"tah p10 gray03\">2019.10.30</span></td>\\n\\t\\t\\t\\t\\t<td class=\"num\"><span class=\"tah p11\">50,400</span></td>\\n\\t\\t\\t\\t\\t<td class=\"num\">\\n\\t\\t\\t\\t<img src=\"https://ssl.pstatic.net/imgstock/images/images4/ico_down.gif\" width=\"7\" height=\"6\" style=\"margin-right:4px;\" alt=\"하락\"><span class=\"tah p11 nv01\">\\n\\t\\t\\t\\t700\\n\\t\\t\\t\\t</span>\\n\\t\\t\\t</td>\\n\\t\\t\\t\\t\\t<td class=\"num\"><span class=\"tah p11\">50,700</span></td>\\n\\t\\t\\t\\t\\t<td class=\"num\"><span class=\"tah p11\">50,800</span></td>\\n\\t\\t\\t\\t\\t<td class=\"num\"><span class=\"tah p11\">50,200</span></td>\\n\\t\\t\\t\\t\\t<td class=\"num\"><span class=\"tah p11\">8,959,435</span></td>\\n\\t\\t\\t\\t\\t</tr>\\n\\t\\t\\t\\t\\n\\t\\t\\t\\t\\n\\t\\t\\t\\n\\t\\t\\t\\n\\t\\t\\t\\n\\t\\t\\t\\n\\t\\t\\t\\n\\t\\n\\t\\t\\n\\t\\n\\t\\n\\t\\n\\n\\t\\t\\t\\t<tr>\\n\\t\\t\\t\\t<td colspan=\"7\" height=\"8\"></td>\\n\\t\\t\\t\\t</tr>\\n\\t\\t\\t\\t</table>\\n\\t\\t\\t\\t<!--- 페이지 네비게이션 시작--->\\n\\t\\t\\t\\t<table summary=\"페이지 네비게이션 리스트\" class=\"Nnavi\" align=\"center\">\\n\\t\\t\\t\\t<caption>페이지 네비게이션</caption>\\n\\t\\t\\t\\t<tr>\\t\\t\\n\\t\\t\\t\\n\\t\\t\\t\\t\\n                \\n                <td class=\"on\">\\n\\t\\t\\t\\t<a href=\"/item/sise_day.nhn?code=005930&amp;page=1\"  >1</a>\\n\\t\\t\\t\\t</td>\\n<td>\\n\\t\\t\\t\\t<a href=\"/item/sise_day.nhn?code=005930&amp;page=2\"  >2</a>\\n\\t\\t\\t\\t</td>\\n<td>\\n\\t\\t\\t\\t<a href=\"/item/sise_day.nhn?code=005930&amp;page=3\"  >3</a>\\n\\t\\t\\t\\t</td>\\n<td>\\n\\t\\t\\t\\t<a href=\"/item/sise_day.nhn?code=005930&amp;page=4\"  >4</a>\\n\\t\\t\\t\\t</td>\\n<td>\\n\\t\\t\\t\\t<a href=\"/item/sise_day.nhn?code=005930&amp;page=5\"  >5</a>\\n\\t\\t\\t\\t</td>\\n<td>\\n\\t\\t\\t\\t<a href=\"/item/sise_day.nhn?code=005930&amp;page=6\"  >6</a>\\n\\t\\t\\t\\t</td>\\n<td>\\n\\t\\t\\t\\t<a href=\"/item/sise_day.nhn?code=005930&amp;page=7\"  >7</a>\\n\\t\\t\\t\\t</td>\\n<td>\\n\\t\\t\\t\\t<a href=\"/item/sise_day.nhn?code=005930&amp;page=8\"  >8</a>\\n\\t\\t\\t\\t</td>\\n<td>\\n\\t\\t\\t\\t<a href=\"/item/sise_day.nhn?code=005930&amp;page=9\"  >9</a>\\n\\t\\t\\t\\t</td>\\n<td>\\n\\t\\t\\t\\t<a href=\"/item/sise_day.nhn?code=005930&amp;page=10\"  >10</a>\\n\\t\\t\\t\\t</td>\\n\\n                <td class=\"pgR\">\\n\\t\\t\\t\\t<a href=\"/item/sise_day.nhn?code=005930&amp;page=11\"  >\\n\\t\\t\\t\\t다음<img src=\"https://ssl.pstatic.net/static/n/cmn/bu_pgarR.gif\" width=\"3\" height=\"5\" alt=\"\" border=\"0\">\\n\\t\\t\\t\\t</a>\\n\\t\\t\\t\\t</td>\\n\\n                <td class=\"pgRR\">\\n\\t\\t\\t\\t<a href=\"/item/sise_day.nhn?code=005930&amp;page=588\"  >맨뒤\\n\\t\\t\\t\\t<img src=\"https://ssl.pstatic.net/static/n/cmn/bu_pgarRR.gif\" width=\"8\" height=\"5\" alt=\"\" border=\"0\">\\n\\t\\t\\t\\t</a>\\n\\t\\t\\t\\t</td>\\n\\n            \\n\\t\\t\\t\\t</tr>\\n\\t\\t\\t\\t</table>\\n\\t\\t\\t\\t<!--- 페이지 네비게이션 끝--->\\n\\n\\n</body>'"
      ]
     },
     "execution_count": 6,
     "metadata": {},
     "output_type": "execute_result"
    }
   ],
   "source": [
    "html.decode(encoding='cp949') # utf-8 또는 cp949"
   ]
  },
  {
   "cell_type": "markdown",
   "metadata": {},
   "source": [
    "### requests 로 불러오기"
   ]
  },
  {
   "cell_type": "code",
   "execution_count": 7,
   "metadata": {},
   "outputs": [],
   "source": [
    "import requests"
   ]
  },
  {
   "cell_type": "code",
   "execution_count": 8,
   "metadata": {},
   "outputs": [],
   "source": [
    "response = requests.get('https://finance.naver.com/item/sise_day.nhn?code=005930')"
   ]
  },
  {
   "cell_type": "code",
   "execution_count": 9,
   "metadata": {},
   "outputs": [],
   "source": [
    "html = response.content"
   ]
  },
  {
   "cell_type": "code",
   "execution_count": 10,
   "metadata": {},
   "outputs": [
    {
     "data": {
      "text/plain": [
       "'\\n\\n\\n\\n\\n\\n\\n<html lang=\"ko\">\\n<head>\\n<meta http-equiv=\"Content-Type\" content=\"text/html; charset=euc-kr\">\\n<title>네이버 금융</title>\\n<link rel=\"stylesheet\" type=\"text/css\" href=\"/css/newstock.css?20191106174226\">\\n<link rel=\"stylesheet\" type=\"text/css\" href=\"/css/common.css?20191106174226\">\\n<link rel=\"stylesheet\" type=\"text/css\" href=\"/css/layout.css?20191106174226\">\\n<link rel=\"stylesheet\" type=\"text/css\" href=\"/css/main.css?20191106174226\">\\n<link rel=\"stylesheet\" type=\"text/css\" href=\"/css/newstock2.css?20191106174226\">\\n<link rel=\"stylesheet\" type=\"text/css\" href=\"/css/newstock3.css?20191106174226\">\\n<link rel=\"stylesheet\" type=\"text/css\" href=\"/css/world.css?20191106174226\">\\n</head>\\n<body>\\n<script language=\"JavaScript\">\\nfunction mouseOver(obj){\\n  obj.style.backgroundColor=\"#f6f4e5\";\\n}\\nfunction mouseOut(obj){\\n  obj.style.backgroundColor=\"#ffffff\";\\n}\\n</script>\\n\\t\\t\\t\\t<h4 class=\"tlline2\"><strong><span class=\"red03\">일별</span>시세</strong></h4>\\t\\t\\t\\n\\t\\t\\t\\t<table cellspacing=\"0\" class=\"type2\">\\n\\t\\t\\t\\t<tr>\\n\\t\\t\\t\\t<th>날짜</th>\\n\\t\\t\\t\\t<th>종가</th>\\n\\t\\t\\t\\t<th>전일비</th>\\n\\t\\t\\t\\t<th>시가</th>\\n\\t\\t\\t\\t<th>고가</th>\\n\\t\\t\\t\\t<th>저가</th>\\n\\t\\t\\t\\t<th>거래량</th>\\n\\t\\t\\t\\t</tr>\\n\\t\\t\\t\\t<tr>\\n\\t\\t\\t\\t<td colspan=\"7\" height=\"8\"></td>\\n\\t\\t\\t\\t</tr>\\n\\n\\n\\t\\n\\t\\t\\t\\t<tr onMouseOver=\"mouseOver(this)\" onMouseOut=\"mouseOut(this)\">\\n\\t\\t\\t\\t<td align=\"center\"><span class=\"tah p10 gray03\">2019.11.12</span></td>\\n\\t\\t\\t\\t<td class=\"num\"><span class=\"tah p11\">52,100</span></td>\\n\\t\\t\\t\\t<td class=\"num\">\\n\\t\\t\\t\\t<img src=\"https://ssl.pstatic.net/imgstock/images/images4/ico_up.gif\" width=\"7\" height=\"6\" style=\"margin-right:4px;\" alt=\"상승\"><span class=\"tah p11 red02\">\\n\\t\\t\\t\\t500\\n\\t\\t\\t\\t</span>\\n\\t\\t\\t</td>\\n\\t\\t\\t\\t<td class=\"num\"><span class=\"tah p11\">51,800</span></td>\\n\\t\\t\\t\\t<td class=\"num\"><span class=\"tah p11\">52,200</span></td>\\n\\t\\t\\t\\t<td class=\"num\"><span class=\"tah p11\">51,600</span></td>\\n\\t\\t\\t\\t<td class=\"num\"><span class=\"tah p11\">3,810,994</span></td>\\n\\t\\t\\t\\t</tr>\\n\\t\\t\\n\\t\\t\\t\\n\\t\\t\\t\\t\\n\\t\\t\\t\\t\\t<tr onMouseOver=\"mouseOver(this)\" onMouseOut=\"mouseOut(this)\">\\n\\t\\t\\t\\t\\t<td align=\"center\"><span class=\"tah p10 gray03\">2019.11.11</span></td>\\n\\t\\t\\t\\t\\t<td class=\"num\"><span class=\"tah p11\">51,600</span></td>\\n\\t\\t\\t\\t\\t<td class=\"num\">\\n\\t\\t\\t\\t<img src=\"https://ssl.pstatic.net/imgstock/images/images4/ico_down.gif\" width=\"7\" height=\"6\" style=\"margin-right:4px;\" alt=\"하락\"><span class=\"tah p11 nv01\">\\n\\t\\t\\t\\t500\\n\\t\\t\\t\\t</span>\\n\\t\\t\\t</td>\\n\\t\\t\\t\\t\\t<td class=\"num\"><span class=\"tah p11\">52,200</span></td>\\n\\t\\t\\t\\t\\t<td class=\"num\"><span class=\"tah p11\">52,200</span></td>\\n\\t\\t\\t\\t\\t<td class=\"num\"><span class=\"tah p11\">51,400</span></td>\\n\\t\\t\\t\\t\\t<td class=\"num\"><span class=\"tah p11\">8,185,952</span></td>\\n\\t\\t\\t\\t\\t</tr>\\n\\t\\t\\t\\t\\n\\t\\t\\t\\t\\n\\t\\t\\t\\n\\t\\t\\t\\n\\t\\t\\t\\n\\t\\t\\t\\n\\t\\t\\t\\n\\t\\n\\t\\t\\n\\t\\t\\t\\n\\t\\t\\t\\t\\n\\t\\t\\t\\t\\t<tr onMouseOver=\"mouseOver(this)\" onMouseOut=\"mouseOut(this)\">\\n\\t\\t\\t\\t\\t<td align=\"center\"><span class=\"tah p10 gray03\">2019.11.08</span></td>\\n\\t\\t\\t\\t\\t<td class=\"num\"><span class=\"tah p11\">52,100</span></td>\\n\\t\\t\\t\\t\\t<td class=\"num\">\\n\\t\\t\\t\\t<img src=\"https://ssl.pstatic.net/imgstock/images/images4/ico_down.gif\" width=\"7\" height=\"6\" style=\"margin-right:4px;\" alt=\"하락\"><span class=\"tah p11 nv01\">\\n\\t\\t\\t\\t800\\n\\t\\t\\t\\t</span>\\n\\t\\t\\t</td>\\n\\t\\t\\t\\t\\t<td class=\"num\"><span class=\"tah p11\">53,200</span></td>\\n\\t\\t\\t\\t\\t<td class=\"num\"><span class=\"tah p11\">53,300</span></td>\\n\\t\\t\\t\\t\\t<td class=\"num\"><span class=\"tah p11\">52,000</span></td>\\n\\t\\t\\t\\t\\t<td class=\"num\"><span class=\"tah p11\">11,603,290</span></td>\\n\\t\\t\\t\\t\\t</tr>\\n\\t\\t\\t\\t\\n\\t\\t\\t\\t\\n\\t\\t\\t\\n\\t\\t\\t\\n\\t\\t\\t\\n\\t\\t\\t\\n\\t\\t\\t\\n\\t\\n\\t\\t\\n\\t\\t\\t\\n\\t\\t\\t\\t\\n\\t\\t\\t\\t\\t<tr onMouseOver=\"mouseOver(this)\" onMouseOut=\"mouseOut(this)\">\\n\\t\\t\\t\\t\\t<td align=\"center\"><span class=\"tah p10 gray03\">2019.11.07</span></td>\\n\\t\\t\\t\\t\\t<td class=\"num\"><span class=\"tah p11\">52,900</span></td>\\n\\t\\t\\t\\t\\t<td class=\"num\">\\n\\t\\t\\t\\t<img src=\"https://ssl.pstatic.net/imgstock/images/images4/ico_down.gif\" width=\"7\" height=\"6\" style=\"margin-right:4px;\" alt=\"하락\"><span class=\"tah p11 nv01\">\\n\\t\\t\\t\\t400\\n\\t\\t\\t\\t</span>\\n\\t\\t\\t</td>\\n\\t\\t\\t\\t\\t<td class=\"num\"><span class=\"tah p11\">53,400</span></td>\\n\\t\\t\\t\\t\\t<td class=\"num\"><span class=\"tah p11\">53,400</span></td>\\n\\t\\t\\t\\t\\t<td class=\"num\"><span class=\"tah p11\">52,400</span></td>\\n\\t\\t\\t\\t\\t<td class=\"num\"><span class=\"tah p11\">9,257,116</span></td>\\n\\t\\t\\t\\t\\t</tr>\\n\\t\\t\\t\\t\\n\\t\\t\\t\\t\\n\\t\\t\\t\\n\\t\\t\\t\\n\\t\\t\\t\\n\\t\\t\\t\\n\\t\\t\\t\\n\\t\\n\\t\\t\\n\\t\\t\\t\\n\\t\\t\\t\\t\\n\\t\\t\\t\\t\\t<tr onMouseOver=\"mouseOver(this)\" onMouseOut=\"mouseOut(this)\">\\n\\t\\t\\t\\t\\t<td align=\"center\"><span class=\"tah p10 gray03\">2019.11.06</span></td>\\n\\t\\t\\t\\t\\t<td class=\"num\"><span class=\"tah p11\">53,300</span></td>\\n\\t\\t\\t\\t\\t<td class=\"num\">\\n\\t\\t\\t\\t<img src=\"https://ssl.pstatic.net/imgstock/images/images4/ico_up.gif\" width=\"7\" height=\"6\" style=\"margin-right:4px;\" alt=\"상승\"><span class=\"tah p11 red02\">\\n\\t\\t\\t\\t600\\n\\t\\t\\t\\t</span>\\n\\t\\t\\t</td>\\n\\t\\t\\t\\t\\t<td class=\"num\"><span class=\"tah p11\">52,900</span></td>\\n\\t\\t\\t\\t\\t<td class=\"num\"><span class=\"tah p11\">53,500</span></td>\\n\\t\\t\\t\\t\\t<td class=\"num\"><span class=\"tah p11\">52,700</span></td>\\n\\t\\t\\t\\t\\t<td class=\"num\"><span class=\"tah p11\">14,361,133</span></td>\\n\\t\\t\\t\\t\\t</tr>\\n\\t\\t\\t\\t\\n\\t\\t\\t\\t\\n\\t\\t\\t\\n\\t\\t\\t\\n\\t\\t\\t\\n\\t\\t\\t\\n\\t\\t\\t\\t<tr>\\n\\t\\t\\t\\t<td colspan=\"7\" height=\"8\"></td>\\n\\t\\t\\t\\t</tr>\\n\\t\\t\\t\\t<tr>\\n\\t\\t\\t\\t<td colspan=\"7\" height=\"1\" bgcolor=\"#e1e1e1\"></td>\\n\\t\\t\\t\\t</tr>\\n\\t\\t\\t\\t<tr>\\n\\t\\t\\t\\t<td colspan=\"7\" height=\"8\"></td>\\n\\t\\t\\t\\t</tr>\\n\\t\\t\\t\\n\\t\\t\\t\\n\\t\\n\\t\\t\\n\\t\\t\\t\\n\\t\\t\\t\\t\\n\\t\\t\\t\\t\\t<tr onMouseOver=\"mouseOver(this)\" onMouseOut=\"mouseOut(this)\">\\n\\t\\t\\t\\t\\t<td align=\"center\"><span class=\"tah p10 gray03\">2019.11.05</span></td>\\n\\t\\t\\t\\t\\t<td class=\"num\"><span class=\"tah p11\">52,700</span></td>\\n\\t\\t\\t\\t\\t<td class=\"num\">\\n\\t\\t\\t\\t<img src=\"https://ssl.pstatic.net/imgstock/images/images4/ico_up.gif\" width=\"7\" height=\"6\" style=\"margin-right:4px;\" alt=\"상승\"><span class=\"tah p11 red02\">\\n\\t\\t\\t\\t400\\n\\t\\t\\t\\t</span>\\n\\t\\t\\t</td>\\n\\t\\t\\t\\t\\t<td class=\"num\"><span class=\"tah p11\">52,400</span></td>\\n\\t\\t\\t\\t\\t<td class=\"num\"><span class=\"tah p11\">52,700</span></td>\\n\\t\\t\\t\\t\\t<td class=\"num\"><span class=\"tah p11\">52,100</span></td>\\n\\t\\t\\t\\t\\t<td class=\"num\"><span class=\"tah p11\">10,581,034</span></td>\\n\\t\\t\\t\\t\\t</tr>\\n\\t\\t\\t\\t\\n\\t\\t\\t\\t\\n\\t\\t\\t\\n\\t\\t\\t\\n\\t\\t\\t\\n\\t\\t\\t\\n\\t\\t\\t\\n\\t\\n\\t\\t\\n\\t\\t\\t\\n\\t\\t\\t\\t\\n\\t\\t\\t\\t\\t<tr onMouseOver=\"mouseOver(this)\" onMouseOut=\"mouseOut(this)\">\\n\\t\\t\\t\\t\\t<td align=\"center\"><span class=\"tah p10 gray03\">2019.11.04</span></td>\\n\\t\\t\\t\\t\\t<td class=\"num\"><span class=\"tah p11\">52,300</span></td>\\n\\t\\t\\t\\t\\t<td class=\"num\">\\n\\t\\t\\t\\t<img src=\"https://ssl.pstatic.net/imgstock/images/images4/ico_up.gif\" width=\"7\" height=\"6\" style=\"margin-right:4px;\" alt=\"상승\"><span class=\"tah p11 red02\">\\n\\t\\t\\t\\t1,100\\n\\t\\t\\t\\t</span>\\n\\t\\t\\t</td>\\n\\t\\t\\t\\t\\t<td class=\"num\"><span class=\"tah p11\">51,700</span></td>\\n\\t\\t\\t\\t\\t<td class=\"num\"><span class=\"tah p11\">52,300</span></td>\\n\\t\\t\\t\\t\\t<td class=\"num\"><span class=\"tah p11\">51,400</span></td>\\n\\t\\t\\t\\t\\t<td class=\"num\"><span class=\"tah p11\">13,012,411</span></td>\\n\\t\\t\\t\\t\\t</tr>\\n\\t\\t\\t\\t\\n\\t\\t\\t\\t\\n\\t\\t\\t\\n\\t\\t\\t\\n\\t\\t\\t\\n\\t\\t\\t\\n\\t\\t\\t\\n\\t\\n\\t\\t\\n\\t\\t\\t\\n\\t\\t\\t\\t\\n\\t\\t\\t\\t\\t<tr onMouseOver=\"mouseOver(this)\" onMouseOut=\"mouseOut(this)\">\\n\\t\\t\\t\\t\\t<td align=\"center\"><span class=\"tah p10 gray03\">2019.11.01</span></td>\\n\\t\\t\\t\\t\\t<td class=\"num\"><span class=\"tah p11\">51,200</span></td>\\n\\t\\t\\t\\t\\t<td class=\"num\">\\n\\t\\t\\t\\t<img src=\"https://ssl.pstatic.net/imgstock/images/images4/ico_up.gif\" width=\"7\" height=\"6\" style=\"margin-right:4px;\" alt=\"상승\"><span class=\"tah p11 red02\">\\n\\t\\t\\t\\t800\\n\\t\\t\\t\\t</span>\\n\\t\\t\\t</td>\\n\\t\\t\\t\\t\\t<td class=\"num\"><span class=\"tah p11\">50,600</span></td>\\n\\t\\t\\t\\t\\t<td class=\"num\"><span class=\"tah p11\">51,200</span></td>\\n\\t\\t\\t\\t\\t<td class=\"num\"><span class=\"tah p11\">50,400</span></td>\\n\\t\\t\\t\\t\\t<td class=\"num\"><span class=\"tah p11\">8,467,846</span></td>\\n\\t\\t\\t\\t\\t</tr>\\n\\t\\t\\t\\t\\n\\t\\t\\t\\t\\n\\t\\t\\t\\n\\t\\t\\t\\n\\t\\t\\t\\n\\t\\t\\t\\n\\t\\t\\t\\n\\t\\n\\t\\t\\n\\t\\t\\t\\n\\t\\t\\t\\t\\n\\t\\t\\t\\t\\t<tr onMouseOver=\"mouseOver(this)\" onMouseOut=\"mouseOut(this)\">\\n\\t\\t\\t\\t\\t<td align=\"center\"><span class=\"tah p10 gray03\">2019.10.31</span></td>\\n\\t\\t\\t\\t\\t<td class=\"num\"><span class=\"tah p11\">50,400</span></td>\\n\\t\\t\\t\\t\\t<td class=\"num\">\\n\\t\\t\\t\\t<span class=\"tah p11\">0</span>\\n\\t\\t\\t</td>\\n\\t\\t\\t\\t\\t<td class=\"num\"><span class=\"tah p11\">51,000</span></td>\\n\\t\\t\\t\\t\\t<td class=\"num\"><span class=\"tah p11\">51,400</span></td>\\n\\t\\t\\t\\t\\t<td class=\"num\"><span class=\"tah p11\">50,300</span></td>\\n\\t\\t\\t\\t\\t<td class=\"num\"><span class=\"tah p11\">10,304,777</span></td>\\n\\t\\t\\t\\t\\t</tr>\\n\\t\\t\\t\\t\\n\\t\\t\\t\\t\\n\\t\\t\\t\\n\\t\\t\\t\\n\\t\\t\\t\\n\\t\\t\\t\\n\\t\\t\\t\\n\\t\\n\\t\\t\\n\\t\\t\\t\\n\\t\\t\\t\\t\\n\\t\\t\\t\\t\\t<tr onMouseOver=\"mouseOver(this)\" onMouseOut=\"mouseOut(this)\">\\n\\t\\t\\t\\t\\t<td align=\"center\"><span class=\"tah p10 gray03\">2019.10.30</span></td>\\n\\t\\t\\t\\t\\t<td class=\"num\"><span class=\"tah p11\">50,400</span></td>\\n\\t\\t\\t\\t\\t<td class=\"num\">\\n\\t\\t\\t\\t<img src=\"https://ssl.pstatic.net/imgstock/images/images4/ico_down.gif\" width=\"7\" height=\"6\" style=\"margin-right:4px;\" alt=\"하락\"><span class=\"tah p11 nv01\">\\n\\t\\t\\t\\t700\\n\\t\\t\\t\\t</span>\\n\\t\\t\\t</td>\\n\\t\\t\\t\\t\\t<td class=\"num\"><span class=\"tah p11\">50,700</span></td>\\n\\t\\t\\t\\t\\t<td class=\"num\"><span class=\"tah p11\">50,800</span></td>\\n\\t\\t\\t\\t\\t<td class=\"num\"><span class=\"tah p11\">50,200</span></td>\\n\\t\\t\\t\\t\\t<td class=\"num\"><span class=\"tah p11\">8,959,435</span></td>\\n\\t\\t\\t\\t\\t</tr>\\n\\t\\t\\t\\t\\n\\t\\t\\t\\t\\n\\t\\t\\t\\n\\t\\t\\t\\n\\t\\t\\t\\n\\t\\t\\t\\n\\t\\t\\t\\n\\t\\n\\t\\t\\n\\t\\n\\t\\n\\t\\n\\n\\t\\t\\t\\t<tr>\\n\\t\\t\\t\\t<td colspan=\"7\" height=\"8\"></td>\\n\\t\\t\\t\\t</tr>\\n\\t\\t\\t\\t</table>\\n\\t\\t\\t\\t<!--- 페이지 네비게이션 시작--->\\n\\t\\t\\t\\t<table summary=\"페이지 네비게이션 리스트\" class=\"Nnavi\" align=\"center\">\\n\\t\\t\\t\\t<caption>페이지 네비게이션</caption>\\n\\t\\t\\t\\t<tr>\\t\\t\\n\\t\\t\\t\\n\\t\\t\\t\\t\\n                \\n                <td class=\"on\">\\n\\t\\t\\t\\t<a href=\"/item/sise_day.nhn?code=005930&amp;page=1\"  >1</a>\\n\\t\\t\\t\\t</td>\\n<td>\\n\\t\\t\\t\\t<a href=\"/item/sise_day.nhn?code=005930&amp;page=2\"  >2</a>\\n\\t\\t\\t\\t</td>\\n<td>\\n\\t\\t\\t\\t<a href=\"/item/sise_day.nhn?code=005930&amp;page=3\"  >3</a>\\n\\t\\t\\t\\t</td>\\n<td>\\n\\t\\t\\t\\t<a href=\"/item/sise_day.nhn?code=005930&amp;page=4\"  >4</a>\\n\\t\\t\\t\\t</td>\\n<td>\\n\\t\\t\\t\\t<a href=\"/item/sise_day.nhn?code=005930&amp;page=5\"  >5</a>\\n\\t\\t\\t\\t</td>\\n<td>\\n\\t\\t\\t\\t<a href=\"/item/sise_day.nhn?code=005930&amp;page=6\"  >6</a>\\n\\t\\t\\t\\t</td>\\n<td>\\n\\t\\t\\t\\t<a href=\"/item/sise_day.nhn?code=005930&amp;page=7\"  >7</a>\\n\\t\\t\\t\\t</td>\\n<td>\\n\\t\\t\\t\\t<a href=\"/item/sise_day.nhn?code=005930&amp;page=8\"  >8</a>\\n\\t\\t\\t\\t</td>\\n<td>\\n\\t\\t\\t\\t<a href=\"/item/sise_day.nhn?code=005930&amp;page=9\"  >9</a>\\n\\t\\t\\t\\t</td>\\n<td>\\n\\t\\t\\t\\t<a href=\"/item/sise_day.nhn?code=005930&amp;page=10\"  >10</a>\\n\\t\\t\\t\\t</td>\\n\\n                <td class=\"pgR\">\\n\\t\\t\\t\\t<a href=\"/item/sise_day.nhn?code=005930&amp;page=11\"  >\\n\\t\\t\\t\\t다음<img src=\"https://ssl.pstatic.net/static/n/cmn/bu_pgarR.gif\" width=\"3\" height=\"5\" alt=\"\" border=\"0\">\\n\\t\\t\\t\\t</a>\\n\\t\\t\\t\\t</td>\\n\\n                <td class=\"pgRR\">\\n\\t\\t\\t\\t<a href=\"/item/sise_day.nhn?code=005930&amp;page=588\"  >맨뒤\\n\\t\\t\\t\\t<img src=\"https://ssl.pstatic.net/static/n/cmn/bu_pgarRR.gif\" width=\"8\" height=\"5\" alt=\"\" border=\"0\">\\n\\t\\t\\t\\t</a>\\n\\t\\t\\t\\t</td>\\n\\n            \\n\\t\\t\\t\\t</tr>\\n\\t\\t\\t\\t</table>\\n\\t\\t\\t\\t<!--- 페이지 네비게이션 끝--->\\n\\n\\n</body>'"
      ]
     },
     "execution_count": 10,
     "metadata": {},
     "output_type": "execute_result"
    }
   ],
   "source": [
    "html.decode(encoding='cp949')"
   ]
  },
  {
   "cell_type": "markdown",
   "metadata": {},
   "source": [
    "### 맛보기"
   ]
  },
  {
   "cell_type": "code",
   "execution_count": 11,
   "metadata": {},
   "outputs": [
    {
     "name": "stdout",
     "output_type": "stream",
     "text": [
      "\n",
      "<html lang=\"ko\">\n",
      "<head>\n",
      "<meta content=\"text/html; charset=utf-8\" http-equiv=\"Content-Type\"/>\n",
      "<title>네이버 금융</title>\n",
      "<link href=\"/css/newstock.css?20191106174226\" rel=\"stylesheet\" type=\"text/css\"/>\n",
      "<link href=\"/css/common.css?20191106174226\" rel=\"stylesheet\" type=\"text/css\"/>\n",
      "<link href=\"/css/layout.css?20191106174226\" rel=\"stylesheet\" type=\"text/css\"/>\n",
      "<link href=\"/css/main.css?20191106174226\" rel=\"stylesheet\" type=\"text/css\"/>\n",
      "<link href=\"/css/newstock2.css?20191106174226\" rel=\"stylesheet\" type=\"text/css\"/>\n",
      "<link href=\"/css/newstock3.css?20191106174226\" rel=\"stylesheet\" type=\"text/css\"/>\n",
      "<link href=\"/css/world.css?20191106174226\" rel=\"stylesheet\" type=\"text/css\"/>\n",
      "</head>\n",
      "<body>\n",
      "<script language=\"JavaScript\">\n",
      "function mouseOver(obj){\n",
      "  obj.style.backgroundColor=\"#f6f4e5\";\n",
      "}\n",
      "function mouseOut(obj){\n",
      "  obj.style.backgroundColor=\"#ffffff\";\n",
      "}\n",
      "</script>\n",
      "<h4 class=\"tlline2\"><strong><span class=\"red03\">일별</span>시세</strong></h4>\n",
      "<table cellspacing=\"0\" class=\"type2\">\n",
      "<tr>\n",
      "<th>날짜</th>\n",
      "<th>종가</th>\n",
      "<th>전일비</th>\n",
      "<th>시가</th>\n",
      "<th>고가</th>\n",
      "<th>저가</th>\n",
      "<th>거래량</th>\n",
      "</tr>\n",
      "<tr>\n",
      "<td colspan=\"7\" height=\"8\"></td>\n",
      "</tr>\n",
      "<tr onmouseout=\"mouseOut(this)\" onmouseover=\"mouseOver(this)\">\n",
      "<td align=\"center\"><span class=\"tah p10 gray03\">2019.11.12</span></td>\n",
      "<td class=\"num\"><span class=\"tah p11\">52,100</span></td>\n",
      "<td class=\"num\">\n",
      "<img alt=\"상승\" height=\"6\" src=\"https://ssl.pstatic.net/imgstock/images/images4/ico_up.gif\" style=\"margin-right:4px;\" width=\"7\"/><span class=\"tah p11 red02\">\n",
      "\t\t\t\t500\n",
      "\t\t\t\t</span>\n",
      "</td>\n",
      "<td class=\"num\"><span class=\"tah p11\">51,800</span></td>\n",
      "<td class=\"num\"><span class=\"tah p11\">52,200</span></td>\n",
      "<td class=\"num\"><span class=\"tah p11\">51,600</span></td>\n",
      "<td class=\"num\"><span class=\"tah p11\">3,810,994</span></td>\n",
      "</tr>\n",
      "<tr onmouseout=\"mouseOut(this)\" onmouseover=\"mouseOver(this)\">\n",
      "<td align=\"center\"><span class=\"tah p10 gray03\">2019.11.11</span></td>\n",
      "<td class=\"num\"><span class=\"tah p11\">51,600</span></td>\n",
      "<td class=\"num\">\n",
      "<img alt=\"하락\" height=\"6\" src=\"https://ssl.pstatic.net/imgstock/images/images4/ico_down.gif\" style=\"margin-right:4px;\" width=\"7\"/><span class=\"tah p11 nv01\">\n",
      "\t\t\t\t500\n",
      "\t\t\t\t</span>\n",
      "</td>\n",
      "<td class=\"num\"><span class=\"tah p11\">52,200</span></td>\n",
      "<td class=\"num\"><span class=\"tah p11\">52,200</span></td>\n",
      "<td class=\"num\"><span class=\"tah p11\">51,400</span></td>\n",
      "<td class=\"num\"><span class=\"tah p11\">8,185,952</span></td>\n",
      "</tr>\n",
      "<tr onmouseout=\"mouseOut(this)\" onmouseover=\"mouseOver(this)\">\n",
      "<td align=\"center\"><span class=\"tah p10 gray03\">2019.11.08</span></td>\n",
      "<td class=\"num\"><span class=\"tah p11\">52,100</span></td>\n",
      "<td class=\"num\">\n",
      "<img alt=\"하락\" height=\"6\" src=\"https://ssl.pstatic.net/imgstock/images/images4/ico_down.gif\" style=\"margin-right:4px;\" width=\"7\"/><span class=\"tah p11 nv01\">\n",
      "\t\t\t\t800\n",
      "\t\t\t\t</span>\n",
      "</td>\n",
      "<td class=\"num\"><span class=\"tah p11\">53,200</span></td>\n",
      "<td class=\"num\"><span class=\"tah p11\">53,300</span></td>\n",
      "<td class=\"num\"><span class=\"tah p11\">52,000</span></td>\n",
      "<td class=\"num\"><span class=\"tah p11\">11,603,290</span></td>\n",
      "</tr>\n",
      "<tr onmouseout=\"mouseOut(this)\" onmouseover=\"mouseOver(this)\">\n",
      "<td align=\"center\"><span class=\"tah p10 gray03\">2019.11.07</span></td>\n",
      "<td class=\"num\"><span class=\"tah p11\">52,900</span></td>\n",
      "<td class=\"num\">\n",
      "<img alt=\"하락\" height=\"6\" src=\"https://ssl.pstatic.net/imgstock/images/images4/ico_down.gif\" style=\"margin-right:4px;\" width=\"7\"/><span class=\"tah p11 nv01\">\n",
      "\t\t\t\t400\n",
      "\t\t\t\t</span>\n",
      "</td>\n",
      "<td class=\"num\"><span class=\"tah p11\">53,400</span></td>\n",
      "<td class=\"num\"><span class=\"tah p11\">53,400</span></td>\n",
      "<td class=\"num\"><span class=\"tah p11\">52,400</span></td>\n",
      "<td class=\"num\"><span class=\"tah p11\">9,257,116</span></td>\n",
      "</tr>\n",
      "<tr onmouseout=\"mouseOut(this)\" onmouseover=\"mouseOver(this)\">\n",
      "<td align=\"center\"><span class=\"tah p10 gray03\">2019.11.06</span></td>\n",
      "<td class=\"num\"><span class=\"tah p11\">53,300</span></td>\n",
      "<td class=\"num\">\n",
      "<img alt=\"상승\" height=\"6\" src=\"https://ssl.pstatic.net/imgstock/images/images4/ico_up.gif\" style=\"margin-right:4px;\" width=\"7\"/><span class=\"tah p11 red02\">\n",
      "\t\t\t\t600\n",
      "\t\t\t\t</span>\n",
      "</td>\n",
      "<td class=\"num\"><span class=\"tah p11\">52,900</span></td>\n",
      "<td class=\"num\"><span class=\"tah p11\">53,500</span></td>\n",
      "<td class=\"num\"><span class=\"tah p11\">52,700</span></td>\n",
      "<td class=\"num\"><span class=\"tah p11\">14,361,133</span></td>\n",
      "</tr>\n",
      "<tr>\n",
      "<td colspan=\"7\" height=\"8\"></td>\n",
      "</tr>\n",
      "<tr>\n",
      "<td bgcolor=\"#e1e1e1\" colspan=\"7\" height=\"1\"></td>\n",
      "</tr>\n",
      "<tr>\n",
      "<td colspan=\"7\" height=\"8\"></td>\n",
      "</tr>\n",
      "<tr onmouseout=\"mouseOut(this)\" onmouseover=\"mouseOver(this)\">\n",
      "<td align=\"center\"><span class=\"tah p10 gray03\">2019.11.05</span></td>\n",
      "<td class=\"num\"><span class=\"tah p11\">52,700</span></td>\n",
      "<td class=\"num\">\n",
      "<img alt=\"상승\" height=\"6\" src=\"https://ssl.pstatic.net/imgstock/images/images4/ico_up.gif\" style=\"margin-right:4px;\" width=\"7\"/><span class=\"tah p11 red02\">\n",
      "\t\t\t\t400\n",
      "\t\t\t\t</span>\n",
      "</td>\n",
      "<td class=\"num\"><span class=\"tah p11\">52,400</span></td>\n",
      "<td class=\"num\"><span class=\"tah p11\">52,700</span></td>\n",
      "<td class=\"num\"><span class=\"tah p11\">52,100</span></td>\n",
      "<td class=\"num\"><span class=\"tah p11\">10,581,034</span></td>\n",
      "</tr>\n",
      "<tr onmouseout=\"mouseOut(this)\" onmouseover=\"mouseOver(this)\">\n",
      "<td align=\"center\"><span class=\"tah p10 gray03\">2019.11.04</span></td>\n",
      "<td class=\"num\"><span class=\"tah p11\">52,300</span></td>\n",
      "<td class=\"num\">\n",
      "<img alt=\"상승\" height=\"6\" src=\"https://ssl.pstatic.net/imgstock/images/images4/ico_up.gif\" style=\"margin-right:4px;\" width=\"7\"/><span class=\"tah p11 red02\">\n",
      "\t\t\t\t1,100\n",
      "\t\t\t\t</span>\n",
      "</td>\n",
      "<td class=\"num\"><span class=\"tah p11\">51,700</span></td>\n",
      "<td class=\"num\"><span class=\"tah p11\">52,300</span></td>\n",
      "<td class=\"num\"><span class=\"tah p11\">51,400</span></td>\n",
      "<td class=\"num\"><span class=\"tah p11\">13,012,411</span></td>\n",
      "</tr>\n",
      "<tr onmouseout=\"mouseOut(this)\" onmouseover=\"mouseOver(this)\">\n",
      "<td align=\"center\"><span class=\"tah p10 gray03\">2019.11.01</span></td>\n",
      "<td class=\"num\"><span class=\"tah p11\">51,200</span></td>\n",
      "<td class=\"num\">\n",
      "<img alt=\"상승\" height=\"6\" src=\"https://ssl.pstatic.net/imgstock/images/images4/ico_up.gif\" style=\"margin-right:4px;\" width=\"7\"/><span class=\"tah p11 red02\">\n",
      "\t\t\t\t800\n",
      "\t\t\t\t</span>\n",
      "</td>\n",
      "<td class=\"num\"><span class=\"tah p11\">50,600</span></td>\n",
      "<td class=\"num\"><span class=\"tah p11\">51,200</span></td>\n",
      "<td class=\"num\"><span class=\"tah p11\">50,400</span></td>\n",
      "<td class=\"num\"><span class=\"tah p11\">8,467,846</span></td>\n",
      "</tr>\n",
      "<tr onmouseout=\"mouseOut(this)\" onmouseover=\"mouseOver(this)\">\n",
      "<td align=\"center\"><span class=\"tah p10 gray03\">2019.10.31</span></td>\n",
      "<td class=\"num\"><span class=\"tah p11\">50,400</span></td>\n",
      "<td class=\"num\">\n",
      "<span class=\"tah p11\">0</span>\n",
      "</td>\n",
      "<td class=\"num\"><span class=\"tah p11\">51,000</span></td>\n",
      "<td class=\"num\"><span class=\"tah p11\">51,400</span></td>\n",
      "<td class=\"num\"><span class=\"tah p11\">50,300</span></td>\n",
      "<td class=\"num\"><span class=\"tah p11\">10,304,777</span></td>\n",
      "</tr>\n",
      "<tr onmouseout=\"mouseOut(this)\" onmouseover=\"mouseOver(this)\">\n",
      "<td align=\"center\"><span class=\"tah p10 gray03\">2019.10.30</span></td>\n",
      "<td class=\"num\"><span class=\"tah p11\">50,400</span></td>\n",
      "<td class=\"num\">\n",
      "<img alt=\"하락\" height=\"6\" src=\"https://ssl.pstatic.net/imgstock/images/images4/ico_down.gif\" style=\"margin-right:4px;\" width=\"7\"/><span class=\"tah p11 nv01\">\n",
      "\t\t\t\t700\n",
      "\t\t\t\t</span>\n",
      "</td>\n",
      "<td class=\"num\"><span class=\"tah p11\">50,700</span></td>\n",
      "<td class=\"num\"><span class=\"tah p11\">50,800</span></td>\n",
      "<td class=\"num\"><span class=\"tah p11\">50,200</span></td>\n",
      "<td class=\"num\"><span class=\"tah p11\">8,959,435</span></td>\n",
      "</tr>\n",
      "<tr>\n",
      "<td colspan=\"7\" height=\"8\"></td>\n",
      "</tr>\n",
      "</table>\n",
      "<!--- 페이지 네비게이션 시작--->\n",
      "<table align=\"center\" class=\"Nnavi\" summary=\"페이지 네비게이션 리스트\">\n",
      "<caption>페이지 네비게이션</caption>\n",
      "<tr>\n",
      "<td class=\"on\">\n",
      "<a href=\"/item/sise_day.nhn?code=005930&amp;page=1\">1</a>\n",
      "</td>\n",
      "<td>\n",
      "<a href=\"/item/sise_day.nhn?code=005930&amp;page=2\">2</a>\n",
      "</td>\n",
      "<td>\n",
      "<a href=\"/item/sise_day.nhn?code=005930&amp;page=3\">3</a>\n",
      "</td>\n",
      "<td>\n",
      "<a href=\"/item/sise_day.nhn?code=005930&amp;page=4\">4</a>\n",
      "</td>\n",
      "<td>\n",
      "<a href=\"/item/sise_day.nhn?code=005930&amp;page=5\">5</a>\n",
      "</td>\n",
      "<td>\n",
      "<a href=\"/item/sise_day.nhn?code=005930&amp;page=6\">6</a>\n",
      "</td>\n",
      "<td>\n",
      "<a href=\"/item/sise_day.nhn?code=005930&amp;page=7\">7</a>\n",
      "</td>\n",
      "<td>\n",
      "<a href=\"/item/sise_day.nhn?code=005930&amp;page=8\">8</a>\n",
      "</td>\n",
      "<td>\n",
      "<a href=\"/item/sise_day.nhn?code=005930&amp;page=9\">9</a>\n",
      "</td>\n",
      "<td>\n",
      "<a href=\"/item/sise_day.nhn?code=005930&amp;page=10\">10</a>\n",
      "</td>\n",
      "<td class=\"pgR\">\n",
      "<a href=\"/item/sise_day.nhn?code=005930&amp;page=11\">\n",
      "\t\t\t\t다음<img alt=\"\" border=\"0\" height=\"5\" src=\"https://ssl.pstatic.net/static/n/cmn/bu_pgarR.gif\" width=\"3\"/>\n",
      "</a>\n",
      "</td>\n",
      "<td class=\"pgRR\">\n",
      "<a href=\"/item/sise_day.nhn?code=005930&amp;page=588\">맨뒤\n",
      "\t\t\t\t<img alt=\"\" border=\"0\" height=\"5\" src=\"https://ssl.pstatic.net/static/n/cmn/bu_pgarRR.gif\" width=\"8\"/>\n",
      "</a>\n",
      "</td>\n",
      "</tr>\n",
      "</table>\n",
      "<!--- 페이지 네비게이션 끝--->\n",
      "</body></html>\n"
     ]
    }
   ],
   "source": [
    "import requests\n",
    "from bs4 import BeautifulSoup\n",
    "\n",
    "response = requests.get('https://finance.naver.com/item/sise_day.nhn?code=005930')\n",
    "bs = BeautifulSoup(response.content, 'html.parser')\n",
    "\n",
    "print(bs)"
   ]
  },
  {
   "cell_type": "markdown",
   "metadata": {},
   "source": [
    "### 로컬에 저장하기"
   ]
  },
  {
   "cell_type": "code",
   "execution_count": 55,
   "metadata": {},
   "outputs": [],
   "source": [
    "f = open('test.html', 'w')\n",
    "f.write(response.text)\n",
    "f.close()"
   ]
  },
  {
   "cell_type": "code",
   "execution_count": 57,
   "metadata": {},
   "outputs": [
    {
     "name": "stdout",
     "output_type": "stream",
     "text": [
      "\n",
      "<html lang=\"ko\">\n",
      "<head>\n",
      "<meta content=\"text/html; charset=utf-8\" http-equiv=\"Content-Type\"/>\n",
      "<title>네이버 금융</title>\n",
      "<link href=\"/css/newstock.css?20191101180258\" rel=\"stylesheet\" type=\"text/css\"/>\n",
      "<link href=\"/css/common.css?20191101180258\" rel=\"stylesheet\" type=\"text/css\"/>\n",
      "<link href=\"/css/layout.css?20191101180258\" rel=\"stylesheet\" type=\"text/css\"/>\n",
      "<link href=\"/css/main.css?20191101180258\" rel=\"stylesheet\" type=\"text/css\"/>\n",
      "<link href=\"/css/newstock2.css?20191101180258\" rel=\"stylesheet\" type=\"text/css\"/>\n",
      "<link href=\"/css/newstock3.css?20191101180258\" rel=\"stylesheet\" type=\"text/css\"/>\n",
      "<link href=\"/css/world.css?20191101180258\" rel=\"stylesheet\" type=\"text/css\"/>\n",
      "</head>\n",
      "<body>\n",
      "<script language=\"JavaScript\">\n",
      "function mouseOver(obj){\n",
      "  obj.style.backgroundColor=\"#f6f4e5\";\n",
      "}\n",
      "function mouseOut(obj){\n",
      "  obj.style.backgroundColor=\"#ffffff\";\n",
      "}\n",
      "</script>\n",
      "<h4 class=\"tlline2\"><strong><span class=\"red03\">일별</span>시세</strong></h4>\n",
      "<table cellspacing=\"0\" class=\"type2\">\n",
      "<tr>\n",
      "<th>날짜</th>\n",
      "<th>종가</th>\n",
      "<th>전일비</th>\n",
      "<th>시가</th>\n",
      "<th>고가</th>\n",
      "<th>저가</th>\n",
      "<th>거래량</th>\n",
      "</tr>\n",
      "<tr>\n",
      "<td colspan=\"7\" height=\"8\"></td>\n",
      "</tr>\n",
      "<tr onmouseout=\"mouseOut(this)\" onmouseover=\"mouseOver(this)\">\n",
      "<td align=\"center\"><span class=\"tah p10 gray03\">2019.11.07</span></td>\n",
      "<td class=\"num\"><span class=\"tah p11\">52,900</span></td>\n",
      "<td class=\"num\">\n",
      "<img alt=\"하락\" height=\"6\" src=\"https://ssl.pstatic.net/imgstock/images/images4/ico_down.gif\" style=\"margin-right:4px;\" width=\"7\"/><span class=\"tah p11 nv01\">\n",
      "\t\t\t\t400\n",
      "\t\t\t\t</span>\n",
      "</td>\n",
      "<td class=\"num\"><span class=\"tah p11\">53,400</span></td>\n",
      "<td class=\"num\"><span class=\"tah p11\">53,400</span></td>\n",
      "<td class=\"num\"><span class=\"tah p11\">52,400</span></td>\n",
      "<td class=\"num\"><span class=\"tah p11\">9,141,290</span></td>\n",
      "</tr>\n",
      "<tr onmouseout=\"mouseOut(this)\" onmouseover=\"mouseOver(this)\">\n",
      "<td align=\"center\"><span class=\"tah p10 gray03\">2019.11.06</span></td>\n",
      "<td class=\"num\"><span class=\"tah p11\">53,300</span></td>\n",
      "<td class=\"num\">\n",
      "<img alt=\"상승\" height=\"6\" src=\"https://ssl.pstatic.net/imgstock/images/images4/ico_up.gif\" style=\"margin-right:4px;\" width=\"7\"/><span class=\"tah p11 red02\">\n",
      "\t\t\t\t600\n",
      "\t\t\t\t</span>\n",
      "</td>\n",
      "<td class=\"num\"><span class=\"tah p11\">52,900</span></td>\n",
      "<td class=\"num\"><span class=\"tah p11\">53,500</span></td>\n",
      "<td class=\"num\"><span class=\"tah p11\">52,700</span></td>\n",
      "<td class=\"num\"><span class=\"tah p11\">14,361,133</span></td>\n",
      "</tr>\n",
      "<tr onmouseout=\"mouseOut(this)\" onmouseover=\"mouseOver(this)\">\n",
      "<td align=\"center\"><span class=\"tah p10 gray03\">2019.11.05</span></td>\n",
      "<td class=\"num\"><span class=\"tah p11\">52,700</span></td>\n",
      "<td class=\"num\">\n",
      "<img alt=\"상승\" height=\"6\" src=\"https://ssl.pstatic.net/imgstock/images/images4/ico_up.gif\" style=\"margin-right:4px;\" width=\"7\"/><span class=\"tah p11 red02\">\n",
      "\t\t\t\t400\n",
      "\t\t\t\t</span>\n",
      "</td>\n",
      "<td class=\"num\"><span class=\"tah p11\">52,400</span></td>\n",
      "<td class=\"num\"><span class=\"tah p11\">52,700</span></td>\n",
      "<td class=\"num\"><span class=\"tah p11\">52,100</span></td>\n",
      "<td class=\"num\"><span class=\"tah p11\">10,581,034</span></td>\n",
      "</tr>\n",
      "<tr onmouseout=\"mouseOut(this)\" onmouseover=\"mouseOver(this)\">\n",
      "<td align=\"center\"><span class=\"tah p10 gray03\">2019.11.04</span></td>\n",
      "<td class=\"num\"><span class=\"tah p11\">52,300</span></td>\n",
      "<td class=\"num\">\n",
      "<img alt=\"상승\" height=\"6\" src=\"https://ssl.pstatic.net/imgstock/images/images4/ico_up.gif\" style=\"margin-right:4px;\" width=\"7\"/><span class=\"tah p11 red02\">\n",
      "\t\t\t\t1,100\n",
      "\t\t\t\t</span>\n",
      "</td>\n",
      "<td class=\"num\"><span class=\"tah p11\">51,700</span></td>\n",
      "<td class=\"num\"><span class=\"tah p11\">52,300</span></td>\n",
      "<td class=\"num\"><span class=\"tah p11\">51,400</span></td>\n",
      "<td class=\"num\"><span class=\"tah p11\">13,012,411</span></td>\n",
      "</tr>\n",
      "<tr onmouseout=\"mouseOut(this)\" onmouseover=\"mouseOver(this)\">\n",
      "<td align=\"center\"><span class=\"tah p10 gray03\">2019.11.01</span></td>\n",
      "<td class=\"num\"><span class=\"tah p11\">51,200</span></td>\n",
      "<td class=\"num\">\n",
      "<img alt=\"상승\" height=\"6\" src=\"https://ssl.pstatic.net/imgstock/images/images4/ico_up.gif\" style=\"margin-right:4px;\" width=\"7\"/><span class=\"tah p11 red02\">\n",
      "\t\t\t\t800\n",
      "\t\t\t\t</span>\n",
      "</td>\n",
      "<td class=\"num\"><span class=\"tah p11\">50,600</span></td>\n",
      "<td class=\"num\"><span class=\"tah p11\">51,200</span></td>\n",
      "<td class=\"num\"><span class=\"tah p11\">50,400</span></td>\n",
      "<td class=\"num\"><span class=\"tah p11\">8,467,846</span></td>\n",
      "</tr>\n",
      "<tr>\n",
      "<td colspan=\"7\" height=\"8\"></td>\n",
      "</tr>\n",
      "<tr>\n",
      "<td bgcolor=\"#e1e1e1\" colspan=\"7\" height=\"1\"></td>\n",
      "</tr>\n",
      "<tr>\n",
      "<td colspan=\"7\" height=\"8\"></td>\n",
      "</tr>\n",
      "<tr onmouseout=\"mouseOut(this)\" onmouseover=\"mouseOver(this)\">\n",
      "<td align=\"center\"><span class=\"tah p10 gray03\">2019.10.31</span></td>\n",
      "<td class=\"num\"><span class=\"tah p11\">50,400</span></td>\n",
      "<td class=\"num\">\n",
      "<span class=\"tah p11\">0</span>\n",
      "</td>\n",
      "<td class=\"num\"><span class=\"tah p11\">51,000</span></td>\n",
      "<td class=\"num\"><span class=\"tah p11\">51,400</span></td>\n",
      "<td class=\"num\"><span class=\"tah p11\">50,300</span></td>\n",
      "<td class=\"num\"><span class=\"tah p11\">10,304,777</span></td>\n",
      "</tr>\n",
      "<tr onmouseout=\"mouseOut(this)\" onmouseover=\"mouseOver(this)\">\n",
      "<td align=\"center\"><span class=\"tah p10 gray03\">2019.10.30</span></td>\n",
      "<td class=\"num\"><span class=\"tah p11\">50,400</span></td>\n",
      "<td class=\"num\">\n",
      "<img alt=\"하락\" height=\"6\" src=\"https://ssl.pstatic.net/imgstock/images/images4/ico_down.gif\" style=\"margin-right:4px;\" width=\"7\"/><span class=\"tah p11 nv01\">\n",
      "\t\t\t\t700\n",
      "\t\t\t\t</span>\n",
      "</td>\n",
      "<td class=\"num\"><span class=\"tah p11\">50,700</span></td>\n",
      "<td class=\"num\"><span class=\"tah p11\">50,800</span></td>\n",
      "<td class=\"num\"><span class=\"tah p11\">50,200</span></td>\n",
      "<td class=\"num\"><span class=\"tah p11\">8,959,435</span></td>\n",
      "</tr>\n",
      "<tr onmouseout=\"mouseOut(this)\" onmouseover=\"mouseOver(this)\">\n",
      "<td align=\"center\"><span class=\"tah p10 gray03\">2019.10.29</span></td>\n",
      "<td class=\"num\"><span class=\"tah p11\">51,100</span></td>\n",
      "<td class=\"num\">\n",
      "<img alt=\"하락\" height=\"6\" src=\"https://ssl.pstatic.net/imgstock/images/images4/ico_down.gif\" style=\"margin-right:4px;\" width=\"7\"/><span class=\"tah p11 nv01\">\n",
      "\t\t\t\t200\n",
      "\t\t\t\t</span>\n",
      "</td>\n",
      "<td class=\"num\"><span class=\"tah p11\">51,400</span></td>\n",
      "<td class=\"num\"><span class=\"tah p11\">51,700</span></td>\n",
      "<td class=\"num\"><span class=\"tah p11\">50,800</span></td>\n",
      "<td class=\"num\"><span class=\"tah p11\">7,581,629</span></td>\n",
      "</tr>\n",
      "<tr onmouseout=\"mouseOut(this)\" onmouseover=\"mouseOver(this)\">\n",
      "<td align=\"center\"><span class=\"tah p10 gray03\">2019.10.28</span></td>\n",
      "<td class=\"num\"><span class=\"tah p11\">51,300</span></td>\n",
      "<td class=\"num\">\n",
      "<img alt=\"상승\" height=\"6\" src=\"https://ssl.pstatic.net/imgstock/images/images4/ico_up.gif\" style=\"margin-right:4px;\" width=\"7\"/><span class=\"tah p11 red02\">\n",
      "\t\t\t\t400\n",
      "\t\t\t\t</span>\n",
      "</td>\n",
      "<td class=\"num\"><span class=\"tah p11\">50,700</span></td>\n",
      "<td class=\"num\"><span class=\"tah p11\">51,500</span></td>\n",
      "<td class=\"num\"><span class=\"tah p11\">50,700</span></td>\n",
      "<td class=\"num\"><span class=\"tah p11\">6,431,522</span></td>\n",
      "</tr>\n",
      "<tr onmouseout=\"mouseOut(this)\" onmouseover=\"mouseOver(this)\">\n",
      "<td align=\"center\"><span class=\"tah p10 gray03\">2019.10.25</span></td>\n",
      "<td class=\"num\"><span class=\"tah p11\">50,900</span></td>\n",
      "<td class=\"num\">\n",
      "<img alt=\"상승\" height=\"6\" src=\"https://ssl.pstatic.net/imgstock/images/images4/ico_up.gif\" style=\"margin-right:4px;\" width=\"7\"/><span class=\"tah p11 red02\">\n",
      "\t\t\t\t200\n",
      "\t\t\t\t</span>\n",
      "</td>\n",
      "<td class=\"num\"><span class=\"tah p11\">50,800</span></td>\n",
      "<td class=\"num\"><span class=\"tah p11\">51,200</span></td>\n",
      "<td class=\"num\"><span class=\"tah p11\">50,500</span></td>\n",
      "<td class=\"num\"><span class=\"tah p11\">7,879,897</span></td>\n",
      "</tr>\n",
      "<tr>\n",
      "<td colspan=\"7\" height=\"8\"></td>\n",
      "</tr>\n",
      "</table>\n",
      "<!--- 페이지 네비게이션 시작--->\n",
      "<table align=\"center\" class=\"Nnavi\" summary=\"페이지 네비게이션 리스트\">\n",
      "<caption>페이지 네비게이션</caption>\n",
      "<tr>\n",
      "<td class=\"on\">\n",
      "<a href=\"/item/sise_day.nhn?code=005930&amp;page=1\">1</a>\n",
      "</td>\n",
      "<td>\n",
      "<a href=\"/item/sise_day.nhn?code=005930&amp;page=2\">2</a>\n",
      "</td>\n",
      "<td>\n",
      "<a href=\"/item/sise_day.nhn?code=005930&amp;page=3\">3</a>\n",
      "</td>\n",
      "<td>\n",
      "<a href=\"/item/sise_day.nhn?code=005930&amp;page=4\">4</a>\n",
      "</td>\n",
      "<td>\n",
      "<a href=\"/item/sise_day.nhn?code=005930&amp;page=5\">5</a>\n",
      "</td>\n",
      "<td>\n",
      "<a href=\"/item/sise_day.nhn?code=005930&amp;page=6\">6</a>\n",
      "</td>\n",
      "<td>\n",
      "<a href=\"/item/sise_day.nhn?code=005930&amp;page=7\">7</a>\n",
      "</td>\n",
      "<td>\n",
      "<a href=\"/item/sise_day.nhn?code=005930&amp;page=8\">8</a>\n",
      "</td>\n",
      "<td>\n",
      "<a href=\"/item/sise_day.nhn?code=005930&amp;page=9\">9</a>\n",
      "</td>\n",
      "<td>\n",
      "<a href=\"/item/sise_day.nhn?code=005930&amp;page=10\">10</a>\n",
      "</td>\n",
      "<td class=\"pgR\">\n",
      "<a href=\"/item/sise_day.nhn?code=005930&amp;page=11\">\n",
      "\t\t\t\t다음<img alt=\"\" border=\"0\" height=\"5\" src=\"https://ssl.pstatic.net/static/n/cmn/bu_pgarR.gif\" width=\"3\"/>\n",
      "</a>\n",
      "</td>\n",
      "<td class=\"pgRR\">\n",
      "<a href=\"/item/sise_day.nhn?code=005930&amp;page=588\">맨뒤\n",
      "\t\t\t\t<img alt=\"\" border=\"0\" height=\"5\" src=\"https://ssl.pstatic.net/static/n/cmn/bu_pgarRR.gif\" width=\"8\"/>\n",
      "</a>\n",
      "</td>\n",
      "</tr>\n",
      "</table>\n",
      "<!--- 페이지 네비게이션 끝--->\n",
      "</body></html>\n"
     ]
    }
   ],
   "source": [
    "bs2 = BeautifulSoup(open('test.html').read(), 'html.parser')\n",
    "\n",
    "print(bs2)"
   ]
  },
  {
   "cell_type": "markdown",
   "metadata": {},
   "source": [
    "### BeautifulSoup 테스트"
   ]
  },
  {
   "cell_type": "code",
   "execution_count": 12,
   "metadata": {},
   "outputs": [
    {
     "data": {
      "text/plain": [
       "<h4 class=\"tlline2\"><strong><span class=\"red03\">일별</span>시세</strong></h4>"
      ]
     },
     "execution_count": 12,
     "metadata": {},
     "output_type": "execute_result"
    }
   ],
   "source": [
    "bs.h4"
   ]
  },
  {
   "cell_type": "code",
   "execution_count": 59,
   "metadata": {},
   "outputs": [
    {
     "data": {
      "text/plain": [
       "<h4 class=\"tlline2\"><strong><span class=\"red03\">일별</span>시세</strong></h4>"
      ]
     },
     "execution_count": 59,
     "metadata": {},
     "output_type": "execute_result"
    }
   ],
   "source": [
    "bs.html.body.h4"
   ]
  },
  {
   "cell_type": "code",
   "execution_count": 61,
   "metadata": {},
   "outputs": [
    {
     "data": {
      "text/plain": [
       "'일별시세'"
      ]
     },
     "execution_count": 61,
     "metadata": {},
     "output_type": "execute_result"
    }
   ],
   "source": [
    "bs.h4.text # 태그를 제외한 텍스트만 출력"
   ]
  },
  {
   "cell_type": "code",
   "execution_count": 62,
   "metadata": {},
   "outputs": [
    {
     "data": {
      "text/plain": [
       "'일별시세'"
      ]
     },
     "execution_count": 62,
     "metadata": {},
     "output_type": "execute_result"
    }
   ],
   "source": [
    "bs.h4.get_text()"
   ]
  },
  {
   "cell_type": "code",
   "execution_count": 64,
   "metadata": {},
   "outputs": [
    {
     "data": {
      "text/plain": [
       "<tr>\n",
       "<th>날짜</th>\n",
       "<th>종가</th>\n",
       "<th>전일비</th>\n",
       "<th>시가</th>\n",
       "<th>고가</th>\n",
       "<th>저가</th>\n",
       "<th>거래량</th>\n",
       "</tr>"
      ]
     },
     "execution_count": 64,
     "metadata": {},
     "output_type": "execute_result"
    }
   ],
   "source": [
    "bs.tr"
   ]
  },
  {
   "cell_type": "code",
   "execution_count": 65,
   "metadata": {},
   "outputs": [
    {
     "data": {
      "text/plain": [
       "'\\n날짜\\n종가\\n전일비\\n시가\\n고가\\n저가\\n거래량\\n'"
      ]
     },
     "execution_count": 65,
     "metadata": {},
     "output_type": "execute_result"
    }
   ],
   "source": [
    "bs.tr.text"
   ]
  },
  {
   "cell_type": "code",
   "execution_count": 67,
   "metadata": {},
   "outputs": [
    {
     "data": {
      "text/plain": [
       "<meta content=\"text/html; charset=utf-8\" http-equiv=\"Content-Type\"/>"
      ]
     },
     "execution_count": 67,
     "metadata": {},
     "output_type": "execute_result"
    }
   ],
   "source": [
    "bs.meta"
   ]
  },
  {
   "cell_type": "code",
   "execution_count": 66,
   "metadata": {},
   "outputs": [
    {
     "data": {
      "text/plain": [
       "{'http-equiv': 'Content-Type', 'content': 'text/html; charset=euc-kr'}"
      ]
     },
     "execution_count": 66,
     "metadata": {},
     "output_type": "execute_result"
    }
   ],
   "source": [
    "bs.meta.attrs"
   ]
  },
  {
   "cell_type": "code",
   "execution_count": 68,
   "metadata": {},
   "outputs": [
    {
     "data": {
      "text/plain": [
       "'text/html; charset=euc-kr'"
      ]
     },
     "execution_count": 68,
     "metadata": {},
     "output_type": "execute_result"
    }
   ],
   "source": [
    "bs.meta['content']"
   ]
  },
  {
   "cell_type": "code",
   "execution_count": 69,
   "metadata": {},
   "outputs": [
    {
     "data": {
      "text/plain": [
       "'text/html; charset=euc-kr'"
      ]
     },
     "execution_count": 69,
     "metadata": {},
     "output_type": "execute_result"
    }
   ],
   "source": [
    "bs.meta.attrs['content']"
   ]
  },
  {
   "cell_type": "code",
   "execution_count": 70,
   "metadata": {},
   "outputs": [
    {
     "data": {
      "text/plain": [
       "{'class': ['tlline2']}"
      ]
     },
     "execution_count": 70,
     "metadata": {},
     "output_type": "execute_result"
    }
   ],
   "source": [
    "bs.h4.attrs # 클래스는 여러개를 지정할 수 있기 때문에 리스트 형태로 값이 넘어온다"
   ]
  },
  {
   "cell_type": "markdown",
   "metadata": {},
   "source": [
    "### 칼럼 읽어오기"
   ]
  },
  {
   "cell_type": "code",
   "execution_count": 71,
   "metadata": {},
   "outputs": [
    {
     "data": {
      "text/plain": [
       "'\\n날짜\\n종가\\n전일비\\n시가\\n고가\\n저가\\n거래량\\n'"
      ]
     },
     "execution_count": 71,
     "metadata": {},
     "output_type": "execute_result"
    }
   ],
   "source": [
    "bs.tr.text"
   ]
  },
  {
   "cell_type": "code",
   "execution_count": 74,
   "metadata": {},
   "outputs": [
    {
     "data": {
      "text/plain": [
       "['날짜', '종가', '전일비', '시가', '고가', '저가', '거래량']"
      ]
     },
     "execution_count": 74,
     "metadata": {},
     "output_type": "execute_result"
    }
   ],
   "source": [
    "columns = bs.tr.text.strip().split()\n",
    "columns"
   ]
  },
  {
   "cell_type": "markdown",
   "metadata": {},
   "source": [
    "### find_all(), find()"
   ]
  },
  {
   "cell_type": "code",
   "execution_count": 93,
   "metadata": {},
   "outputs": [
    {
     "data": {
      "text/plain": [
       "[<a href=\"/item/sise_day.nhn?code=005930&amp;page=1\">1</a>,\n",
       " <a href=\"/item/sise_day.nhn?code=005930&amp;page=2\">2</a>,\n",
       " <a href=\"/item/sise_day.nhn?code=005930&amp;page=3\">3</a>,\n",
       " <a href=\"/item/sise_day.nhn?code=005930&amp;page=4\">4</a>,\n",
       " <a href=\"/item/sise_day.nhn?code=005930&amp;page=5\">5</a>,\n",
       " <a href=\"/item/sise_day.nhn?code=005930&amp;page=6\">6</a>,\n",
       " <a href=\"/item/sise_day.nhn?code=005930&amp;page=7\">7</a>,\n",
       " <a href=\"/item/sise_day.nhn?code=005930&amp;page=8\">8</a>,\n",
       " <a href=\"/item/sise_day.nhn?code=005930&amp;page=9\">9</a>,\n",
       " <a href=\"/item/sise_day.nhn?code=005930&amp;page=10\">10</a>,\n",
       " <a href=\"/item/sise_day.nhn?code=005930&amp;page=11\">\n",
       " \t\t\t\t다음<img alt=\"\" border=\"0\" height=\"5\" src=\"https://ssl.pstatic.net/static/n/cmn/bu_pgarR.gif\" width=\"3\"/>\n",
       " </a>,\n",
       " <a href=\"/item/sise_day.nhn?code=005930&amp;page=588\">맨뒤\n",
       " \t\t\t\t<img alt=\"\" border=\"0\" height=\"5\" src=\"https://ssl.pstatic.net/static/n/cmn/bu_pgarRR.gif\" width=\"8\"/>\n",
       " </a>]"
      ]
     },
     "execution_count": 93,
     "metadata": {},
     "output_type": "execute_result"
    }
   ],
   "source": [
    "bs.find_all('a')"
   ]
  },
  {
   "cell_type": "code",
   "execution_count": 94,
   "metadata": {},
   "outputs": [
    {
     "data": {
      "text/plain": [
       "['/item/sise_day.nhn?code=005930&page=1',\n",
       " '/item/sise_day.nhn?code=005930&page=2',\n",
       " '/item/sise_day.nhn?code=005930&page=3',\n",
       " '/item/sise_day.nhn?code=005930&page=4',\n",
       " '/item/sise_day.nhn?code=005930&page=5',\n",
       " '/item/sise_day.nhn?code=005930&page=6',\n",
       " '/item/sise_day.nhn?code=005930&page=7',\n",
       " '/item/sise_day.nhn?code=005930&page=8',\n",
       " '/item/sise_day.nhn?code=005930&page=9',\n",
       " '/item/sise_day.nhn?code=005930&page=10',\n",
       " '/item/sise_day.nhn?code=005930&page=11',\n",
       " '/item/sise_day.nhn?code=005930&page=588']"
      ]
     },
     "execution_count": 94,
     "metadata": {},
     "output_type": "execute_result"
    }
   ],
   "source": [
    "[a['href'] for a in bs.find_all('a')]"
   ]
  },
  {
   "cell_type": "code",
   "execution_count": 95,
   "metadata": {
    "scrolled": true
   },
   "outputs": [
    {
     "data": {
      "text/plain": [
       "[<span class=\"tah p10 gray03\">2019.11.07</span>,\n",
       " <span class=\"tah p11\">52,900</span>,\n",
       " <span class=\"tah p11 nv01\">\n",
       " \t\t\t\t400\n",
       " \t\t\t\t</span>,\n",
       " <span class=\"tah p11\">53,400</span>,\n",
       " <span class=\"tah p11\">53,400</span>,\n",
       " <span class=\"tah p11\">52,400</span>,\n",
       " <span class=\"tah p11\">9,141,290</span>,\n",
       " <span class=\"tah p10 gray03\">2019.11.06</span>,\n",
       " <span class=\"tah p11\">53,300</span>,\n",
       " <span class=\"tah p11 red02\">\n",
       " \t\t\t\t600\n",
       " \t\t\t\t</span>,\n",
       " <span class=\"tah p11\">52,900</span>,\n",
       " <span class=\"tah p11\">53,500</span>,\n",
       " <span class=\"tah p11\">52,700</span>,\n",
       " <span class=\"tah p11\">14,361,133</span>,\n",
       " <span class=\"tah p10 gray03\">2019.11.05</span>,\n",
       " <span class=\"tah p11\">52,700</span>,\n",
       " <span class=\"tah p11 red02\">\n",
       " \t\t\t\t400\n",
       " \t\t\t\t</span>,\n",
       " <span class=\"tah p11\">52,400</span>,\n",
       " <span class=\"tah p11\">52,700</span>,\n",
       " <span class=\"tah p11\">52,100</span>,\n",
       " <span class=\"tah p11\">10,581,034</span>,\n",
       " <span class=\"tah p10 gray03\">2019.11.04</span>,\n",
       " <span class=\"tah p11\">52,300</span>,\n",
       " <span class=\"tah p11 red02\">\n",
       " \t\t\t\t1,100\n",
       " \t\t\t\t</span>,\n",
       " <span class=\"tah p11\">51,700</span>,\n",
       " <span class=\"tah p11\">52,300</span>,\n",
       " <span class=\"tah p11\">51,400</span>,\n",
       " <span class=\"tah p11\">13,012,411</span>,\n",
       " <span class=\"tah p10 gray03\">2019.11.01</span>,\n",
       " <span class=\"tah p11\">51,200</span>,\n",
       " <span class=\"tah p11 red02\">\n",
       " \t\t\t\t800\n",
       " \t\t\t\t</span>,\n",
       " <span class=\"tah p11\">50,600</span>,\n",
       " <span class=\"tah p11\">51,200</span>,\n",
       " <span class=\"tah p11\">50,400</span>,\n",
       " <span class=\"tah p11\">8,467,846</span>,\n",
       " <span class=\"tah p10 gray03\">2019.10.31</span>,\n",
       " <span class=\"tah p11\">50,400</span>,\n",
       " <span class=\"tah p11\">0</span>,\n",
       " <span class=\"tah p11\">51,000</span>,\n",
       " <span class=\"tah p11\">51,400</span>,\n",
       " <span class=\"tah p11\">50,300</span>,\n",
       " <span class=\"tah p11\">10,304,777</span>,\n",
       " <span class=\"tah p10 gray03\">2019.10.30</span>,\n",
       " <span class=\"tah p11\">50,400</span>,\n",
       " <span class=\"tah p11 nv01\">\n",
       " \t\t\t\t700\n",
       " \t\t\t\t</span>,\n",
       " <span class=\"tah p11\">50,700</span>,\n",
       " <span class=\"tah p11\">50,800</span>,\n",
       " <span class=\"tah p11\">50,200</span>,\n",
       " <span class=\"tah p11\">8,959,435</span>,\n",
       " <span class=\"tah p10 gray03\">2019.10.29</span>,\n",
       " <span class=\"tah p11\">51,100</span>,\n",
       " <span class=\"tah p11 nv01\">\n",
       " \t\t\t\t200\n",
       " \t\t\t\t</span>,\n",
       " <span class=\"tah p11\">51,400</span>,\n",
       " <span class=\"tah p11\">51,700</span>,\n",
       " <span class=\"tah p11\">50,800</span>,\n",
       " <span class=\"tah p11\">7,581,629</span>,\n",
       " <span class=\"tah p10 gray03\">2019.10.28</span>,\n",
       " <span class=\"tah p11\">51,300</span>,\n",
       " <span class=\"tah p11 red02\">\n",
       " \t\t\t\t400\n",
       " \t\t\t\t</span>,\n",
       " <span class=\"tah p11\">50,700</span>,\n",
       " <span class=\"tah p11\">51,500</span>,\n",
       " <span class=\"tah p11\">50,700</span>,\n",
       " <span class=\"tah p11\">6,431,522</span>,\n",
       " <span class=\"tah p10 gray03\">2019.10.25</span>,\n",
       " <span class=\"tah p11\">50,900</span>,\n",
       " <span class=\"tah p11 red02\">\n",
       " \t\t\t\t200\n",
       " \t\t\t\t</span>,\n",
       " <span class=\"tah p11\">50,800</span>,\n",
       " <span class=\"tah p11\">51,200</span>,\n",
       " <span class=\"tah p11\">50,500</span>,\n",
       " <span class=\"tah p11\">7,879,897</span>]"
      ]
     },
     "execution_count": 95,
     "metadata": {},
     "output_type": "execute_result"
    }
   ],
   "source": [
    "bs.find_all(class_='tah')"
   ]
  },
  {
   "cell_type": "code",
   "execution_count": 96,
   "metadata": {
    "scrolled": true
   },
   "outputs": [
    {
     "data": {
      "text/plain": [
       "[<td class=\"num\"><span class=\"tah p11\">52,900</span></td>, <td class=\"num\">\n",
       " <img alt=\"하락\" height=\"6\" src=\"https://ssl.pstatic.net/imgstock/images/images4/ico_down.gif\" style=\"margin-right:4px;\" width=\"7\"/><span class=\"tah p11 nv01\">\n",
       " \t\t\t\t400\n",
       " \t\t\t\t</span>\n",
       " </td>, <td class=\"num\"><span class=\"tah p11\">53,400</span></td>, <td class=\"num\"><span class=\"tah p11\">53,400</span></td>, <td class=\"num\"><span class=\"tah p11\">52,400</span></td>, <td class=\"num\"><span class=\"tah p11\">9,141,290</span></td>, <td class=\"num\"><span class=\"tah p11\">53,300</span></td>, <td class=\"num\">\n",
       " <img alt=\"상승\" height=\"6\" src=\"https://ssl.pstatic.net/imgstock/images/images4/ico_up.gif\" style=\"margin-right:4px;\" width=\"7\"/><span class=\"tah p11 red02\">\n",
       " \t\t\t\t600\n",
       " \t\t\t\t</span>\n",
       " </td>, <td class=\"num\"><span class=\"tah p11\">52,900</span></td>, <td class=\"num\"><span class=\"tah p11\">53,500</span></td>, <td class=\"num\"><span class=\"tah p11\">52,700</span></td>, <td class=\"num\"><span class=\"tah p11\">14,361,133</span></td>, <td class=\"num\"><span class=\"tah p11\">52,700</span></td>, <td class=\"num\">\n",
       " <img alt=\"상승\" height=\"6\" src=\"https://ssl.pstatic.net/imgstock/images/images4/ico_up.gif\" style=\"margin-right:4px;\" width=\"7\"/><span class=\"tah p11 red02\">\n",
       " \t\t\t\t400\n",
       " \t\t\t\t</span>\n",
       " </td>, <td class=\"num\"><span class=\"tah p11\">52,400</span></td>, <td class=\"num\"><span class=\"tah p11\">52,700</span></td>, <td class=\"num\"><span class=\"tah p11\">52,100</span></td>, <td class=\"num\"><span class=\"tah p11\">10,581,034</span></td>, <td class=\"num\"><span class=\"tah p11\">52,300</span></td>, <td class=\"num\">\n",
       " <img alt=\"상승\" height=\"6\" src=\"https://ssl.pstatic.net/imgstock/images/images4/ico_up.gif\" style=\"margin-right:4px;\" width=\"7\"/><span class=\"tah p11 red02\">\n",
       " \t\t\t\t1,100\n",
       " \t\t\t\t</span>\n",
       " </td>, <td class=\"num\"><span class=\"tah p11\">51,700</span></td>, <td class=\"num\"><span class=\"tah p11\">52,300</span></td>, <td class=\"num\"><span class=\"tah p11\">51,400</span></td>, <td class=\"num\"><span class=\"tah p11\">13,012,411</span></td>, <td class=\"num\"><span class=\"tah p11\">51,200</span></td>, <td class=\"num\">\n",
       " <img alt=\"상승\" height=\"6\" src=\"https://ssl.pstatic.net/imgstock/images/images4/ico_up.gif\" style=\"margin-right:4px;\" width=\"7\"/><span class=\"tah p11 red02\">\n",
       " \t\t\t\t800\n",
       " \t\t\t\t</span>\n",
       " </td>, <td class=\"num\"><span class=\"tah p11\">50,600</span></td>, <td class=\"num\"><span class=\"tah p11\">51,200</span></td>, <td class=\"num\"><span class=\"tah p11\">50,400</span></td>, <td class=\"num\"><span class=\"tah p11\">8,467,846</span></td>, <td class=\"num\"><span class=\"tah p11\">50,400</span></td>, <td class=\"num\">\n",
       " <span class=\"tah p11\">0</span>\n",
       " </td>, <td class=\"num\"><span class=\"tah p11\">51,000</span></td>, <td class=\"num\"><span class=\"tah p11\">51,400</span></td>, <td class=\"num\"><span class=\"tah p11\">50,300</span></td>, <td class=\"num\"><span class=\"tah p11\">10,304,777</span></td>, <td class=\"num\"><span class=\"tah p11\">50,400</span></td>, <td class=\"num\">\n",
       " <img alt=\"하락\" height=\"6\" src=\"https://ssl.pstatic.net/imgstock/images/images4/ico_down.gif\" style=\"margin-right:4px;\" width=\"7\"/><span class=\"tah p11 nv01\">\n",
       " \t\t\t\t700\n",
       " \t\t\t\t</span>\n",
       " </td>, <td class=\"num\"><span class=\"tah p11\">50,700</span></td>, <td class=\"num\"><span class=\"tah p11\">50,800</span></td>, <td class=\"num\"><span class=\"tah p11\">50,200</span></td>, <td class=\"num\"><span class=\"tah p11\">8,959,435</span></td>, <td class=\"num\"><span class=\"tah p11\">51,100</span></td>, <td class=\"num\">\n",
       " <img alt=\"하락\" height=\"6\" src=\"https://ssl.pstatic.net/imgstock/images/images4/ico_down.gif\" style=\"margin-right:4px;\" width=\"7\"/><span class=\"tah p11 nv01\">\n",
       " \t\t\t\t200\n",
       " \t\t\t\t</span>\n",
       " </td>, <td class=\"num\"><span class=\"tah p11\">51,400</span></td>, <td class=\"num\"><span class=\"tah p11\">51,700</span></td>, <td class=\"num\"><span class=\"tah p11\">50,800</span></td>, <td class=\"num\"><span class=\"tah p11\">7,581,629</span></td>, <td class=\"num\"><span class=\"tah p11\">51,300</span></td>, <td class=\"num\">\n",
       " <img alt=\"상승\" height=\"6\" src=\"https://ssl.pstatic.net/imgstock/images/images4/ico_up.gif\" style=\"margin-right:4px;\" width=\"7\"/><span class=\"tah p11 red02\">\n",
       " \t\t\t\t400\n",
       " \t\t\t\t</span>\n",
       " </td>, <td class=\"num\"><span class=\"tah p11\">50,700</span></td>, <td class=\"num\"><span class=\"tah p11\">51,500</span></td>, <td class=\"num\"><span class=\"tah p11\">50,700</span></td>, <td class=\"num\"><span class=\"tah p11\">6,431,522</span></td>, <td class=\"num\"><span class=\"tah p11\">50,900</span></td>, <td class=\"num\">\n",
       " <img alt=\"상승\" height=\"6\" src=\"https://ssl.pstatic.net/imgstock/images/images4/ico_up.gif\" style=\"margin-right:4px;\" width=\"7\"/><span class=\"tah p11 red02\">\n",
       " \t\t\t\t200\n",
       " \t\t\t\t</span>\n",
       " </td>, <td class=\"num\"><span class=\"tah p11\">50,800</span></td>, <td class=\"num\"><span class=\"tah p11\">51,200</span></td>, <td class=\"num\"><span class=\"tah p11\">50,500</span></td>, <td class=\"num\"><span class=\"tah p11\">7,879,897</span></td>]"
      ]
     },
     "execution_count": 96,
     "metadata": {},
     "output_type": "execute_result"
    }
   ],
   "source": [
    "bs.find_all('td','num') # class_='num', {'class': 'num'}"
   ]
  },
  {
   "cell_type": "code",
   "execution_count": 98,
   "metadata": {},
   "outputs": [
    {
     "data": {
      "text/plain": [
       "[<img alt=\"하락\" height=\"6\" src=\"https://ssl.pstatic.net/imgstock/images/images4/ico_down.gif\" style=\"margin-right:4px;\" width=\"7\"/>,\n",
       " <img alt=\"하락\" height=\"6\" src=\"https://ssl.pstatic.net/imgstock/images/images4/ico_down.gif\" style=\"margin-right:4px;\" width=\"7\"/>,\n",
       " <img alt=\"하락\" height=\"6\" src=\"https://ssl.pstatic.net/imgstock/images/images4/ico_down.gif\" style=\"margin-right:4px;\" width=\"7\"/>]"
      ]
     },
     "execution_count": 98,
     "metadata": {},
     "output_type": "execute_result"
    }
   ],
   "source": [
    "bs.find_all('img', {'alt': '하락'})"
   ]
  },
  {
   "cell_type": "code",
   "execution_count": null,
   "metadata": {},
   "outputs": [],
   "source": []
  },
  {
   "cell_type": "code",
   "execution_count": 75,
   "metadata": {},
   "outputs": [
    {
     "data": {
      "text/plain": [
       "[<tr>\n",
       " <th>날짜</th>\n",
       " <th>종가</th>\n",
       " <th>전일비</th>\n",
       " <th>시가</th>\n",
       " <th>고가</th>\n",
       " <th>저가</th>\n",
       " <th>거래량</th>\n",
       " </tr>, <tr>\n",
       " <td colspan=\"7\" height=\"8\"></td>\n",
       " </tr>, <tr onmouseout=\"mouseOut(this)\" onmouseover=\"mouseOver(this)\">\n",
       " <td align=\"center\"><span class=\"tah p10 gray03\">2019.11.07</span></td>\n",
       " <td class=\"num\"><span class=\"tah p11\">52,900</span></td>\n",
       " <td class=\"num\">\n",
       " <img alt=\"하락\" height=\"6\" src=\"https://ssl.pstatic.net/imgstock/images/images4/ico_down.gif\" style=\"margin-right:4px;\" width=\"7\"/><span class=\"tah p11 nv01\">\n",
       " \t\t\t\t400\n",
       " \t\t\t\t</span>\n",
       " </td>\n",
       " <td class=\"num\"><span class=\"tah p11\">53,400</span></td>\n",
       " <td class=\"num\"><span class=\"tah p11\">53,400</span></td>\n",
       " <td class=\"num\"><span class=\"tah p11\">52,400</span></td>\n",
       " <td class=\"num\"><span class=\"tah p11\">9,141,290</span></td>\n",
       " </tr>, <tr onmouseout=\"mouseOut(this)\" onmouseover=\"mouseOver(this)\">\n",
       " <td align=\"center\"><span class=\"tah p10 gray03\">2019.11.06</span></td>\n",
       " <td class=\"num\"><span class=\"tah p11\">53,300</span></td>\n",
       " <td class=\"num\">\n",
       " <img alt=\"상승\" height=\"6\" src=\"https://ssl.pstatic.net/imgstock/images/images4/ico_up.gif\" style=\"margin-right:4px;\" width=\"7\"/><span class=\"tah p11 red02\">\n",
       " \t\t\t\t600\n",
       " \t\t\t\t</span>\n",
       " </td>\n",
       " <td class=\"num\"><span class=\"tah p11\">52,900</span></td>\n",
       " <td class=\"num\"><span class=\"tah p11\">53,500</span></td>\n",
       " <td class=\"num\"><span class=\"tah p11\">52,700</span></td>\n",
       " <td class=\"num\"><span class=\"tah p11\">14,361,133</span></td>\n",
       " </tr>, <tr onmouseout=\"mouseOut(this)\" onmouseover=\"mouseOver(this)\">\n",
       " <td align=\"center\"><span class=\"tah p10 gray03\">2019.11.05</span></td>\n",
       " <td class=\"num\"><span class=\"tah p11\">52,700</span></td>\n",
       " <td class=\"num\">\n",
       " <img alt=\"상승\" height=\"6\" src=\"https://ssl.pstatic.net/imgstock/images/images4/ico_up.gif\" style=\"margin-right:4px;\" width=\"7\"/><span class=\"tah p11 red02\">\n",
       " \t\t\t\t400\n",
       " \t\t\t\t</span>\n",
       " </td>\n",
       " <td class=\"num\"><span class=\"tah p11\">52,400</span></td>\n",
       " <td class=\"num\"><span class=\"tah p11\">52,700</span></td>\n",
       " <td class=\"num\"><span class=\"tah p11\">52,100</span></td>\n",
       " <td class=\"num\"><span class=\"tah p11\">10,581,034</span></td>\n",
       " </tr>, <tr onmouseout=\"mouseOut(this)\" onmouseover=\"mouseOver(this)\">\n",
       " <td align=\"center\"><span class=\"tah p10 gray03\">2019.11.04</span></td>\n",
       " <td class=\"num\"><span class=\"tah p11\">52,300</span></td>\n",
       " <td class=\"num\">\n",
       " <img alt=\"상승\" height=\"6\" src=\"https://ssl.pstatic.net/imgstock/images/images4/ico_up.gif\" style=\"margin-right:4px;\" width=\"7\"/><span class=\"tah p11 red02\">\n",
       " \t\t\t\t1,100\n",
       " \t\t\t\t</span>\n",
       " </td>\n",
       " <td class=\"num\"><span class=\"tah p11\">51,700</span></td>\n",
       " <td class=\"num\"><span class=\"tah p11\">52,300</span></td>\n",
       " <td class=\"num\"><span class=\"tah p11\">51,400</span></td>\n",
       " <td class=\"num\"><span class=\"tah p11\">13,012,411</span></td>\n",
       " </tr>, <tr onmouseout=\"mouseOut(this)\" onmouseover=\"mouseOver(this)\">\n",
       " <td align=\"center\"><span class=\"tah p10 gray03\">2019.11.01</span></td>\n",
       " <td class=\"num\"><span class=\"tah p11\">51,200</span></td>\n",
       " <td class=\"num\">\n",
       " <img alt=\"상승\" height=\"6\" src=\"https://ssl.pstatic.net/imgstock/images/images4/ico_up.gif\" style=\"margin-right:4px;\" width=\"7\"/><span class=\"tah p11 red02\">\n",
       " \t\t\t\t800\n",
       " \t\t\t\t</span>\n",
       " </td>\n",
       " <td class=\"num\"><span class=\"tah p11\">50,600</span></td>\n",
       " <td class=\"num\"><span class=\"tah p11\">51,200</span></td>\n",
       " <td class=\"num\"><span class=\"tah p11\">50,400</span></td>\n",
       " <td class=\"num\"><span class=\"tah p11\">8,467,846</span></td>\n",
       " </tr>, <tr>\n",
       " <td colspan=\"7\" height=\"8\"></td>\n",
       " </tr>, <tr>\n",
       " <td bgcolor=\"#e1e1e1\" colspan=\"7\" height=\"1\"></td>\n",
       " </tr>, <tr>\n",
       " <td colspan=\"7\" height=\"8\"></td>\n",
       " </tr>, <tr onmouseout=\"mouseOut(this)\" onmouseover=\"mouseOver(this)\">\n",
       " <td align=\"center\"><span class=\"tah p10 gray03\">2019.10.31</span></td>\n",
       " <td class=\"num\"><span class=\"tah p11\">50,400</span></td>\n",
       " <td class=\"num\">\n",
       " <span class=\"tah p11\">0</span>\n",
       " </td>\n",
       " <td class=\"num\"><span class=\"tah p11\">51,000</span></td>\n",
       " <td class=\"num\"><span class=\"tah p11\">51,400</span></td>\n",
       " <td class=\"num\"><span class=\"tah p11\">50,300</span></td>\n",
       " <td class=\"num\"><span class=\"tah p11\">10,304,777</span></td>\n",
       " </tr>, <tr onmouseout=\"mouseOut(this)\" onmouseover=\"mouseOver(this)\">\n",
       " <td align=\"center\"><span class=\"tah p10 gray03\">2019.10.30</span></td>\n",
       " <td class=\"num\"><span class=\"tah p11\">50,400</span></td>\n",
       " <td class=\"num\">\n",
       " <img alt=\"하락\" height=\"6\" src=\"https://ssl.pstatic.net/imgstock/images/images4/ico_down.gif\" style=\"margin-right:4px;\" width=\"7\"/><span class=\"tah p11 nv01\">\n",
       " \t\t\t\t700\n",
       " \t\t\t\t</span>\n",
       " </td>\n",
       " <td class=\"num\"><span class=\"tah p11\">50,700</span></td>\n",
       " <td class=\"num\"><span class=\"tah p11\">50,800</span></td>\n",
       " <td class=\"num\"><span class=\"tah p11\">50,200</span></td>\n",
       " <td class=\"num\"><span class=\"tah p11\">8,959,435</span></td>\n",
       " </tr>, <tr onmouseout=\"mouseOut(this)\" onmouseover=\"mouseOver(this)\">\n",
       " <td align=\"center\"><span class=\"tah p10 gray03\">2019.10.29</span></td>\n",
       " <td class=\"num\"><span class=\"tah p11\">51,100</span></td>\n",
       " <td class=\"num\">\n",
       " <img alt=\"하락\" height=\"6\" src=\"https://ssl.pstatic.net/imgstock/images/images4/ico_down.gif\" style=\"margin-right:4px;\" width=\"7\"/><span class=\"tah p11 nv01\">\n",
       " \t\t\t\t200\n",
       " \t\t\t\t</span>\n",
       " </td>\n",
       " <td class=\"num\"><span class=\"tah p11\">51,400</span></td>\n",
       " <td class=\"num\"><span class=\"tah p11\">51,700</span></td>\n",
       " <td class=\"num\"><span class=\"tah p11\">50,800</span></td>\n",
       " <td class=\"num\"><span class=\"tah p11\">7,581,629</span></td>\n",
       " </tr>, <tr onmouseout=\"mouseOut(this)\" onmouseover=\"mouseOver(this)\">\n",
       " <td align=\"center\"><span class=\"tah p10 gray03\">2019.10.28</span></td>\n",
       " <td class=\"num\"><span class=\"tah p11\">51,300</span></td>\n",
       " <td class=\"num\">\n",
       " <img alt=\"상승\" height=\"6\" src=\"https://ssl.pstatic.net/imgstock/images/images4/ico_up.gif\" style=\"margin-right:4px;\" width=\"7\"/><span class=\"tah p11 red02\">\n",
       " \t\t\t\t400\n",
       " \t\t\t\t</span>\n",
       " </td>\n",
       " <td class=\"num\"><span class=\"tah p11\">50,700</span></td>\n",
       " <td class=\"num\"><span class=\"tah p11\">51,500</span></td>\n",
       " <td class=\"num\"><span class=\"tah p11\">50,700</span></td>\n",
       " <td class=\"num\"><span class=\"tah p11\">6,431,522</span></td>\n",
       " </tr>, <tr onmouseout=\"mouseOut(this)\" onmouseover=\"mouseOver(this)\">\n",
       " <td align=\"center\"><span class=\"tah p10 gray03\">2019.10.25</span></td>\n",
       " <td class=\"num\"><span class=\"tah p11\">50,900</span></td>\n",
       " <td class=\"num\">\n",
       " <img alt=\"상승\" height=\"6\" src=\"https://ssl.pstatic.net/imgstock/images/images4/ico_up.gif\" style=\"margin-right:4px;\" width=\"7\"/><span class=\"tah p11 red02\">\n",
       " \t\t\t\t200\n",
       " \t\t\t\t</span>\n",
       " </td>\n",
       " <td class=\"num\"><span class=\"tah p11\">50,800</span></td>\n",
       " <td class=\"num\"><span class=\"tah p11\">51,200</span></td>\n",
       " <td class=\"num\"><span class=\"tah p11\">50,500</span></td>\n",
       " <td class=\"num\"><span class=\"tah p11\">7,879,897</span></td>\n",
       " </tr>, <tr>\n",
       " <td colspan=\"7\" height=\"8\"></td>\n",
       " </tr>, <tr>\n",
       " <td class=\"on\">\n",
       " <a href=\"/item/sise_day.nhn?code=005930&amp;page=1\">1</a>\n",
       " </td>\n",
       " <td>\n",
       " <a href=\"/item/sise_day.nhn?code=005930&amp;page=2\">2</a>\n",
       " </td>\n",
       " <td>\n",
       " <a href=\"/item/sise_day.nhn?code=005930&amp;page=3\">3</a>\n",
       " </td>\n",
       " <td>\n",
       " <a href=\"/item/sise_day.nhn?code=005930&amp;page=4\">4</a>\n",
       " </td>\n",
       " <td>\n",
       " <a href=\"/item/sise_day.nhn?code=005930&amp;page=5\">5</a>\n",
       " </td>\n",
       " <td>\n",
       " <a href=\"/item/sise_day.nhn?code=005930&amp;page=6\">6</a>\n",
       " </td>\n",
       " <td>\n",
       " <a href=\"/item/sise_day.nhn?code=005930&amp;page=7\">7</a>\n",
       " </td>\n",
       " <td>\n",
       " <a href=\"/item/sise_day.nhn?code=005930&amp;page=8\">8</a>\n",
       " </td>\n",
       " <td>\n",
       " <a href=\"/item/sise_day.nhn?code=005930&amp;page=9\">9</a>\n",
       " </td>\n",
       " <td>\n",
       " <a href=\"/item/sise_day.nhn?code=005930&amp;page=10\">10</a>\n",
       " </td>\n",
       " <td class=\"pgR\">\n",
       " <a href=\"/item/sise_day.nhn?code=005930&amp;page=11\">\n",
       " \t\t\t\t다음<img alt=\"\" border=\"0\" height=\"5\" src=\"https://ssl.pstatic.net/static/n/cmn/bu_pgarR.gif\" width=\"3\"/>\n",
       " </a>\n",
       " </td>\n",
       " <td class=\"pgRR\">\n",
       " <a href=\"/item/sise_day.nhn?code=005930&amp;page=588\">맨뒤\n",
       " \t\t\t\t<img alt=\"\" border=\"0\" height=\"5\" src=\"https://ssl.pstatic.net/static/n/cmn/bu_pgarRR.gif\" width=\"8\"/>\n",
       " </a>\n",
       " </td>\n",
       " </tr>]"
      ]
     },
     "execution_count": 75,
     "metadata": {},
     "output_type": "execute_result"
    }
   ],
   "source": [
    "bs.find_all('tr')"
   ]
  },
  {
   "cell_type": "code",
   "execution_count": 76,
   "metadata": {},
   "outputs": [],
   "source": [
    "trs = bs.find_all('tr')"
   ]
  },
  {
   "cell_type": "code",
   "execution_count": 77,
   "metadata": {},
   "outputs": [
    {
     "data": {
      "text/plain": [
       "bs4.element.ResultSet"
      ]
     },
     "execution_count": 77,
     "metadata": {},
     "output_type": "execute_result"
    }
   ],
   "source": [
    "type(trs)"
   ]
  },
  {
   "cell_type": "code",
   "execution_count": 78,
   "metadata": {},
   "outputs": [
    {
     "data": {
      "text/plain": [
       "<tr>\n",
       "<th>날짜</th>\n",
       "<th>종가</th>\n",
       "<th>전일비</th>\n",
       "<th>시가</th>\n",
       "<th>고가</th>\n",
       "<th>저가</th>\n",
       "<th>거래량</th>\n",
       "</tr>"
      ]
     },
     "execution_count": 78,
     "metadata": {},
     "output_type": "execute_result"
    }
   ],
   "source": [
    "trs[0]"
   ]
  },
  {
   "cell_type": "code",
   "execution_count": 79,
   "metadata": {},
   "outputs": [
    {
     "data": {
      "text/plain": [
       "<tr>\n",
       "<td colspan=\"7\" height=\"8\"></td>\n",
       "</tr>"
      ]
     },
     "execution_count": 79,
     "metadata": {},
     "output_type": "execute_result"
    }
   ],
   "source": [
    "trs[1]"
   ]
  },
  {
   "cell_type": "code",
   "execution_count": 81,
   "metadata": {},
   "outputs": [
    {
     "data": {
      "text/plain": [
       "<tr onmouseout=\"mouseOut(this)\" onmouseover=\"mouseOver(this)\">\n",
       "<td align=\"center\"><span class=\"tah p10 gray03\">2019.11.07</span></td>\n",
       "<td class=\"num\"><span class=\"tah p11\">52,900</span></td>\n",
       "<td class=\"num\">\n",
       "<img alt=\"하락\" height=\"6\" src=\"https://ssl.pstatic.net/imgstock/images/images4/ico_down.gif\" style=\"margin-right:4px;\" width=\"7\"/><span class=\"tah p11 nv01\">\n",
       "\t\t\t\t400\n",
       "\t\t\t\t</span>\n",
       "</td>\n",
       "<td class=\"num\"><span class=\"tah p11\">53,400</span></td>\n",
       "<td class=\"num\"><span class=\"tah p11\">53,400</span></td>\n",
       "<td class=\"num\"><span class=\"tah p11\">52,400</span></td>\n",
       "<td class=\"num\"><span class=\"tah p11\">9,141,290</span></td>\n",
       "</tr>"
      ]
     },
     "execution_count": 81,
     "metadata": {},
     "output_type": "execute_result"
    }
   ],
   "source": [
    "trs[2]"
   ]
  },
  {
   "cell_type": "code",
   "execution_count": 80,
   "metadata": {},
   "outputs": [
    {
     "data": {
      "text/plain": [
       "17"
      ]
     },
     "execution_count": 80,
     "metadata": {},
     "output_type": "execute_result"
    }
   ],
   "source": [
    "len(trs)"
   ]
  },
  {
   "cell_type": "code",
   "execution_count": 83,
   "metadata": {},
   "outputs": [
    {
     "data": {
      "text/plain": [
       "{'onmouseover': 'mouseOver(this)', 'onmouseout': 'mouseOut(this)'}"
      ]
     },
     "execution_count": 83,
     "metadata": {},
     "output_type": "execute_result"
    }
   ],
   "source": [
    "trs[2].attrs"
   ]
  },
  {
   "cell_type": "markdown",
   "metadata": {},
   "source": [
    "### 주가 레코드만 뽑아내기"
   ]
  },
  {
   "cell_type": "code",
   "execution_count": 91,
   "metadata": {},
   "outputs": [],
   "source": [
    "rows = bs.find_all('tr',{'onmouseover': True}) # {'onmouseover': 'mouseOver(this)'}"
   ]
  },
  {
   "cell_type": "code",
   "execution_count": 92,
   "metadata": {},
   "outputs": [
    {
     "data": {
      "text/plain": [
       "10"
      ]
     },
     "execution_count": 92,
     "metadata": {},
     "output_type": "execute_result"
    }
   ],
   "source": [
    "len(rows)"
   ]
  },
  {
   "cell_type": "code",
   "execution_count": 100,
   "metadata": {},
   "outputs": [
    {
     "data": {
      "text/plain": [
       "<tr onmouseout=\"mouseOut(this)\" onmouseover=\"mouseOver(this)\">\n",
       "<td align=\"center\"><span class=\"tah p10 gray03\">2019.11.07</span></td>\n",
       "<td class=\"num\"><span class=\"tah p11\">52,900</span></td>\n",
       "<td class=\"num\">\n",
       "<img alt=\"하락\" height=\"6\" src=\"https://ssl.pstatic.net/imgstock/images/images4/ico_down.gif\" style=\"margin-right:4px;\" width=\"7\"/><span class=\"tah p11 nv01\">\n",
       "\t\t\t\t400\n",
       "\t\t\t\t</span>\n",
       "</td>\n",
       "<td class=\"num\"><span class=\"tah p11\">53,400</span></td>\n",
       "<td class=\"num\"><span class=\"tah p11\">53,400</span></td>\n",
       "<td class=\"num\"><span class=\"tah p11\">52,400</span></td>\n",
       "<td class=\"num\"><span class=\"tah p11\">9,141,290</span></td>\n",
       "</tr>"
      ]
     },
     "execution_count": 100,
     "metadata": {},
     "output_type": "execute_result"
    }
   ],
   "source": [
    "rows[0]"
   ]
  },
  {
   "cell_type": "code",
   "execution_count": 101,
   "metadata": {},
   "outputs": [
    {
     "data": {
      "text/plain": [
       "'\\n2019.11.07\\n52,900\\n\\n\\n\\t\\t\\t\\t400\\n\\t\\t\\t\\t\\n\\n53,400\\n53,400\\n52,400\\n9,141,290\\n'"
      ]
     },
     "execution_count": 101,
     "metadata": {},
     "output_type": "execute_result"
    }
   ],
   "source": [
    "rows[0].text"
   ]
  },
  {
   "cell_type": "code",
   "execution_count": 102,
   "metadata": {},
   "outputs": [
    {
     "data": {
      "text/plain": [
       "['2019.11.07', '52,900', '400', '53,400', '53,400', '52,400', '9,141,290']"
      ]
     },
     "execution_count": 102,
     "metadata": {},
     "output_type": "execute_result"
    }
   ],
   "source": [
    "rows[0].text.strip().split()"
   ]
  },
  {
   "cell_type": "code",
   "execution_count": 104,
   "metadata": {},
   "outputs": [
    {
     "data": {
      "text/plain": [
       "[['2019.11.07', '52,900', '400', '53,400', '53,400', '52,400', '9,141,290'],\n",
       " ['2019.11.06', '53,300', '600', '52,900', '53,500', '52,700', '14,361,133'],\n",
       " ['2019.11.05', '52,700', '400', '52,400', '52,700', '52,100', '10,581,034'],\n",
       " ['2019.11.04', '52,300', '1,100', '51,700', '52,300', '51,400', '13,012,411'],\n",
       " ['2019.11.01', '51,200', '800', '50,600', '51,200', '50,400', '8,467,846'],\n",
       " ['2019.10.31', '50,400', '0', '51,000', '51,400', '50,300', '10,304,777'],\n",
       " ['2019.10.30', '50,400', '700', '50,700', '50,800', '50,200', '8,959,435'],\n",
       " ['2019.10.29', '51,100', '200', '51,400', '51,700', '50,800', '7,581,629'],\n",
       " ['2019.10.28', '51,300', '400', '50,700', '51,500', '50,700', '6,431,522'],\n",
       " ['2019.10.25', '50,900', '200', '50,800', '51,200', '50,500', '7,879,897']]"
      ]
     },
     "execution_count": 104,
     "metadata": {},
     "output_type": "execute_result"
    }
   ],
   "source": [
    "raw = []\n",
    "\n",
    "for r in rows:\n",
    "    raw.append(r.text.strip().split())\n",
    "    \n",
    "raw"
   ]
  },
  {
   "cell_type": "code",
   "execution_count": 106,
   "metadata": {},
   "outputs": [],
   "source": [
    "days = []\n",
    "prices = []\n",
    "\n",
    "for r in raw:\n",
    "    days.append(r[0])\n",
    "    prices.append(r[1:])"
   ]
  },
  {
   "cell_type": "code",
   "execution_count": 109,
   "metadata": {},
   "outputs": [],
   "source": [
    "from datetime import datetime"
   ]
  },
  {
   "cell_type": "code",
   "execution_count": 112,
   "metadata": {},
   "outputs": [
    {
     "data": {
      "text/plain": [
       "[datetime.datetime(2019, 11, 7, 0, 0),\n",
       " datetime.datetime(2019, 11, 6, 0, 0),\n",
       " datetime.datetime(2019, 11, 5, 0, 0),\n",
       " datetime.datetime(2019, 11, 4, 0, 0),\n",
       " datetime.datetime(2019, 11, 1, 0, 0),\n",
       " datetime.datetime(2019, 10, 31, 0, 0),\n",
       " datetime.datetime(2019, 10, 30, 0, 0),\n",
       " datetime.datetime(2019, 10, 29, 0, 0),\n",
       " datetime.datetime(2019, 10, 28, 0, 0),\n",
       " datetime.datetime(2019, 10, 25, 0, 0)]"
      ]
     },
     "execution_count": 112,
     "metadata": {},
     "output_type": "execute_result"
    }
   ],
   "source": [
    "days = [datetime.strptime(d, '%Y.%m.%d') for d in days]\n",
    "days"
   ]
  },
  {
   "cell_type": "code",
   "execution_count": 113,
   "metadata": {},
   "outputs": [
    {
     "data": {
      "text/plain": [
       "[[52900, 400, 53400, 53400, 52400, 9141290],\n",
       " [53300, 600, 52900, 53500, 52700, 14361133],\n",
       " [52700, 400, 52400, 52700, 52100, 10581034],\n",
       " [52300, 1100, 51700, 52300, 51400, 13012411],\n",
       " [51200, 800, 50600, 51200, 50400, 8467846],\n",
       " [50400, 0, 51000, 51400, 50300, 10304777],\n",
       " [50400, 700, 50700, 50800, 50200, 8959435],\n",
       " [51100, 200, 51400, 51700, 50800, 7581629],\n",
       " [51300, 400, 50700, 51500, 50700, 6431522],\n",
       " [50900, 200, 50800, 51200, 50500, 7879897]]"
      ]
     },
     "execution_count": 113,
     "metadata": {},
     "output_type": "execute_result"
    }
   ],
   "source": [
    "data = []\n",
    "\n",
    "for row in prices:\n",
    "    l = []\n",
    "    for i in row:\n",
    "        l.append(int(i.replace(',', '')))\n",
    "        \n",
    "    data.append(l)\n",
    "    \n",
    "data"
   ]
  },
  {
   "cell_type": "code",
   "execution_count": 115,
   "metadata": {},
   "outputs": [
    {
     "data": {
      "text/plain": [
       "['종가', '전일비', '시가', '고가', '저가', '거래량']"
      ]
     },
     "execution_count": 115,
     "metadata": {},
     "output_type": "execute_result"
    }
   ],
   "source": [
    "columns[1:]"
   ]
  },
  {
   "cell_type": "code",
   "execution_count": 116,
   "metadata": {},
   "outputs": [
    {
     "data": {
      "text/plain": [
       "[52900, 53300, 52700, 52300, 51200, 50400, 50400, 51100, 51300, 50900]"
      ]
     },
     "execution_count": 116,
     "metadata": {},
     "output_type": "execute_result"
    }
   ],
   "source": [
    "종가 = [i[0] for i in data]\n",
    "종가"
   ]
  },
  {
   "cell_type": "code",
   "execution_count": 117,
   "metadata": {},
   "outputs": [
    {
     "data": {
      "text/plain": [
       "[50900, 51300, 51100, 50400, 50400, 51200, 52300, 52700, 53300, 52900]"
      ]
     },
     "execution_count": 117,
     "metadata": {},
     "output_type": "execute_result"
    }
   ],
   "source": [
    "종가[::-1]"
   ]
  },
  {
   "cell_type": "markdown",
   "metadata": {},
   "source": [
    "### 전일비 상승/하락 처리"
   ]
  },
  {
   "cell_type": "code",
   "execution_count": 118,
   "metadata": {},
   "outputs": [
    {
     "data": {
      "text/plain": [
       "[<tr onmouseout=\"mouseOut(this)\" onmouseover=\"mouseOver(this)\">\n",
       " <td align=\"center\"><span class=\"tah p10 gray03\">2019.11.07</span></td>\n",
       " <td class=\"num\"><span class=\"tah p11\">52,900</span></td>\n",
       " <td class=\"num\">\n",
       " <img alt=\"하락\" height=\"6\" src=\"https://ssl.pstatic.net/imgstock/images/images4/ico_down.gif\" style=\"margin-right:4px;\" width=\"7\"/><span class=\"tah p11 nv01\">\n",
       " \t\t\t\t400\n",
       " \t\t\t\t</span>\n",
       " </td>\n",
       " <td class=\"num\"><span class=\"tah p11\">53,400</span></td>\n",
       " <td class=\"num\"><span class=\"tah p11\">53,400</span></td>\n",
       " <td class=\"num\"><span class=\"tah p11\">52,400</span></td>\n",
       " <td class=\"num\"><span class=\"tah p11\">9,141,290</span></td>\n",
       " </tr>, <tr onmouseout=\"mouseOut(this)\" onmouseover=\"mouseOver(this)\">\n",
       " <td align=\"center\"><span class=\"tah p10 gray03\">2019.11.06</span></td>\n",
       " <td class=\"num\"><span class=\"tah p11\">53,300</span></td>\n",
       " <td class=\"num\">\n",
       " <img alt=\"상승\" height=\"6\" src=\"https://ssl.pstatic.net/imgstock/images/images4/ico_up.gif\" style=\"margin-right:4px;\" width=\"7\"/><span class=\"tah p11 red02\">\n",
       " \t\t\t\t600\n",
       " \t\t\t\t</span>\n",
       " </td>\n",
       " <td class=\"num\"><span class=\"tah p11\">52,900</span></td>\n",
       " <td class=\"num\"><span class=\"tah p11\">53,500</span></td>\n",
       " <td class=\"num\"><span class=\"tah p11\">52,700</span></td>\n",
       " <td class=\"num\"><span class=\"tah p11\">14,361,133</span></td>\n",
       " </tr>, <tr onmouseout=\"mouseOut(this)\" onmouseover=\"mouseOver(this)\">\n",
       " <td align=\"center\"><span class=\"tah p10 gray03\">2019.11.05</span></td>\n",
       " <td class=\"num\"><span class=\"tah p11\">52,700</span></td>\n",
       " <td class=\"num\">\n",
       " <img alt=\"상승\" height=\"6\" src=\"https://ssl.pstatic.net/imgstock/images/images4/ico_up.gif\" style=\"margin-right:4px;\" width=\"7\"/><span class=\"tah p11 red02\">\n",
       " \t\t\t\t400\n",
       " \t\t\t\t</span>\n",
       " </td>\n",
       " <td class=\"num\"><span class=\"tah p11\">52,400</span></td>\n",
       " <td class=\"num\"><span class=\"tah p11\">52,700</span></td>\n",
       " <td class=\"num\"><span class=\"tah p11\">52,100</span></td>\n",
       " <td class=\"num\"><span class=\"tah p11\">10,581,034</span></td>\n",
       " </tr>, <tr onmouseout=\"mouseOut(this)\" onmouseover=\"mouseOver(this)\">\n",
       " <td align=\"center\"><span class=\"tah p10 gray03\">2019.11.04</span></td>\n",
       " <td class=\"num\"><span class=\"tah p11\">52,300</span></td>\n",
       " <td class=\"num\">\n",
       " <img alt=\"상승\" height=\"6\" src=\"https://ssl.pstatic.net/imgstock/images/images4/ico_up.gif\" style=\"margin-right:4px;\" width=\"7\"/><span class=\"tah p11 red02\">\n",
       " \t\t\t\t1,100\n",
       " \t\t\t\t</span>\n",
       " </td>\n",
       " <td class=\"num\"><span class=\"tah p11\">51,700</span></td>\n",
       " <td class=\"num\"><span class=\"tah p11\">52,300</span></td>\n",
       " <td class=\"num\"><span class=\"tah p11\">51,400</span></td>\n",
       " <td class=\"num\"><span class=\"tah p11\">13,012,411</span></td>\n",
       " </tr>, <tr onmouseout=\"mouseOut(this)\" onmouseover=\"mouseOver(this)\">\n",
       " <td align=\"center\"><span class=\"tah p10 gray03\">2019.11.01</span></td>\n",
       " <td class=\"num\"><span class=\"tah p11\">51,200</span></td>\n",
       " <td class=\"num\">\n",
       " <img alt=\"상승\" height=\"6\" src=\"https://ssl.pstatic.net/imgstock/images/images4/ico_up.gif\" style=\"margin-right:4px;\" width=\"7\"/><span class=\"tah p11 red02\">\n",
       " \t\t\t\t800\n",
       " \t\t\t\t</span>\n",
       " </td>\n",
       " <td class=\"num\"><span class=\"tah p11\">50,600</span></td>\n",
       " <td class=\"num\"><span class=\"tah p11\">51,200</span></td>\n",
       " <td class=\"num\"><span class=\"tah p11\">50,400</span></td>\n",
       " <td class=\"num\"><span class=\"tah p11\">8,467,846</span></td>\n",
       " </tr>, <tr onmouseout=\"mouseOut(this)\" onmouseover=\"mouseOver(this)\">\n",
       " <td align=\"center\"><span class=\"tah p10 gray03\">2019.10.31</span></td>\n",
       " <td class=\"num\"><span class=\"tah p11\">50,400</span></td>\n",
       " <td class=\"num\">\n",
       " <span class=\"tah p11\">0</span>\n",
       " </td>\n",
       " <td class=\"num\"><span class=\"tah p11\">51,000</span></td>\n",
       " <td class=\"num\"><span class=\"tah p11\">51,400</span></td>\n",
       " <td class=\"num\"><span class=\"tah p11\">50,300</span></td>\n",
       " <td class=\"num\"><span class=\"tah p11\">10,304,777</span></td>\n",
       " </tr>, <tr onmouseout=\"mouseOut(this)\" onmouseover=\"mouseOver(this)\">\n",
       " <td align=\"center\"><span class=\"tah p10 gray03\">2019.10.30</span></td>\n",
       " <td class=\"num\"><span class=\"tah p11\">50,400</span></td>\n",
       " <td class=\"num\">\n",
       " <img alt=\"하락\" height=\"6\" src=\"https://ssl.pstatic.net/imgstock/images/images4/ico_down.gif\" style=\"margin-right:4px;\" width=\"7\"/><span class=\"tah p11 nv01\">\n",
       " \t\t\t\t700\n",
       " \t\t\t\t</span>\n",
       " </td>\n",
       " <td class=\"num\"><span class=\"tah p11\">50,700</span></td>\n",
       " <td class=\"num\"><span class=\"tah p11\">50,800</span></td>\n",
       " <td class=\"num\"><span class=\"tah p11\">50,200</span></td>\n",
       " <td class=\"num\"><span class=\"tah p11\">8,959,435</span></td>\n",
       " </tr>, <tr onmouseout=\"mouseOut(this)\" onmouseover=\"mouseOver(this)\">\n",
       " <td align=\"center\"><span class=\"tah p10 gray03\">2019.10.29</span></td>\n",
       " <td class=\"num\"><span class=\"tah p11\">51,100</span></td>\n",
       " <td class=\"num\">\n",
       " <img alt=\"하락\" height=\"6\" src=\"https://ssl.pstatic.net/imgstock/images/images4/ico_down.gif\" style=\"margin-right:4px;\" width=\"7\"/><span class=\"tah p11 nv01\">\n",
       " \t\t\t\t200\n",
       " \t\t\t\t</span>\n",
       " </td>\n",
       " <td class=\"num\"><span class=\"tah p11\">51,400</span></td>\n",
       " <td class=\"num\"><span class=\"tah p11\">51,700</span></td>\n",
       " <td class=\"num\"><span class=\"tah p11\">50,800</span></td>\n",
       " <td class=\"num\"><span class=\"tah p11\">7,581,629</span></td>\n",
       " </tr>, <tr onmouseout=\"mouseOut(this)\" onmouseover=\"mouseOver(this)\">\n",
       " <td align=\"center\"><span class=\"tah p10 gray03\">2019.10.28</span></td>\n",
       " <td class=\"num\"><span class=\"tah p11\">51,300</span></td>\n",
       " <td class=\"num\">\n",
       " <img alt=\"상승\" height=\"6\" src=\"https://ssl.pstatic.net/imgstock/images/images4/ico_up.gif\" style=\"margin-right:4px;\" width=\"7\"/><span class=\"tah p11 red02\">\n",
       " \t\t\t\t400\n",
       " \t\t\t\t</span>\n",
       " </td>\n",
       " <td class=\"num\"><span class=\"tah p11\">50,700</span></td>\n",
       " <td class=\"num\"><span class=\"tah p11\">51,500</span></td>\n",
       " <td class=\"num\"><span class=\"tah p11\">50,700</span></td>\n",
       " <td class=\"num\"><span class=\"tah p11\">6,431,522</span></td>\n",
       " </tr>, <tr onmouseout=\"mouseOut(this)\" onmouseover=\"mouseOver(this)\">\n",
       " <td align=\"center\"><span class=\"tah p10 gray03\">2019.10.25</span></td>\n",
       " <td class=\"num\"><span class=\"tah p11\">50,900</span></td>\n",
       " <td class=\"num\">\n",
       " <img alt=\"상승\" height=\"6\" src=\"https://ssl.pstatic.net/imgstock/images/images4/ico_up.gif\" style=\"margin-right:4px;\" width=\"7\"/><span class=\"tah p11 red02\">\n",
       " \t\t\t\t200\n",
       " \t\t\t\t</span>\n",
       " </td>\n",
       " <td class=\"num\"><span class=\"tah p11\">50,800</span></td>\n",
       " <td class=\"num\"><span class=\"tah p11\">51,200</span></td>\n",
       " <td class=\"num\"><span class=\"tah p11\">50,500</span></td>\n",
       " <td class=\"num\"><span class=\"tah p11\">7,879,897</span></td>\n",
       " </tr>]"
      ]
     },
     "execution_count": 118,
     "metadata": {},
     "output_type": "execute_result"
    }
   ],
   "source": [
    "rows"
   ]
  },
  {
   "cell_type": "code",
   "execution_count": 139,
   "metadata": {},
   "outputs": [
    {
     "data": {
      "text/plain": [
       "[-1, 1, 1, 1, 1, 0, -1, -1, 1, 1]"
      ]
     },
     "execution_count": 139,
     "metadata": {},
     "output_type": "execute_result"
    }
   ],
   "source": [
    "updown = []\n",
    "\n",
    "for r in rows:\n",
    "    if r.img and r.img.attrs['alt']:\n",
    "        updown.append(1 if r.img.attrs['alt']=='상승' else -1)\n",
    "    else:\n",
    "        updown.append(0)\n",
    "    \n",
    "updown"
   ]
  },
  {
   "cell_type": "code",
   "execution_count": 145,
   "metadata": {},
   "outputs": [
    {
     "data": {
      "text/plain": [
       "[400, 600, 400, 1100, 800, 0, 700, 200, 400, 200]"
      ]
     },
     "execution_count": 145,
     "metadata": {},
     "output_type": "execute_result"
    }
   ],
   "source": [
    "c1 = [r[1] for r in data]\n",
    "c1"
   ]
  },
  {
   "cell_type": "code",
   "execution_count": 146,
   "metadata": {},
   "outputs": [
    {
     "name": "stdout",
     "output_type": "stream",
     "text": [
      "-400\n",
      "600\n",
      "400\n",
      "1100\n",
      "800\n",
      "0\n",
      "-700\n",
      "-200\n",
      "400\n",
      "200\n"
     ]
    }
   ],
   "source": [
    "for i,j in zip(c1,updown):\n",
    "    print(i*j)"
   ]
  },
  {
   "cell_type": "markdown",
   "metadata": {},
   "source": [
    "### 기타"
   ]
  },
  {
   "cell_type": "code",
   "execution_count": 32,
   "metadata": {},
   "outputs": [
    {
     "data": {
      "text/plain": [
       "['\\n', '\\n', '\\n', '\\n', '\\n', '\\n', '\\n', '\\n']"
      ]
     },
     "execution_count": 32,
     "metadata": {},
     "output_type": "execute_result"
    }
   ],
   "source": [
    "import re\n",
    "bs.tr.find_all(text=re.compile('\\n'))"
   ]
  },
  {
   "cell_type": "code",
   "execution_count": 51,
   "metadata": {},
   "outputs": [
    {
     "name": "stdout",
     "output_type": "stream",
     "text": [
      "<th>날짜</th>\n",
      "<th>종가</th>\n",
      "<th>전일비</th>\n",
      "<th>시가</th>\n",
      "<th>고가</th>\n",
      "<th>저가</th>\n",
      "<th>거래량</th>\n"
     ]
    }
   ],
   "source": [
    "import bs4\n",
    "\n",
    "for c in bs.tr.children:\n",
    "    if not isinstance(c, bs4.element.NavigableString):\n",
    "        print(c)"
   ]
  },
  {
   "cell_type": "markdown",
   "metadata": {},
   "source": [
    "### 도전과제\n",
    "- 서브페이지를 참조해서 모든 날의 주가를 알아내자\n",
    "- 서브페이지의 갯수는 몇개인가?"
   ]
  },
  {
   "cell_type": "code",
   "execution_count": 147,
   "metadata": {},
   "outputs": [
    {
     "data": {
      "text/plain": [
       "[<a href=\"/item/sise_day.nhn?code=005930&amp;page=1\">1</a>,\n",
       " <a href=\"/item/sise_day.nhn?code=005930&amp;page=2\">2</a>,\n",
       " <a href=\"/item/sise_day.nhn?code=005930&amp;page=3\">3</a>,\n",
       " <a href=\"/item/sise_day.nhn?code=005930&amp;page=4\">4</a>,\n",
       " <a href=\"/item/sise_day.nhn?code=005930&amp;page=5\">5</a>,\n",
       " <a href=\"/item/sise_day.nhn?code=005930&amp;page=6\">6</a>,\n",
       " <a href=\"/item/sise_day.nhn?code=005930&amp;page=7\">7</a>,\n",
       " <a href=\"/item/sise_day.nhn?code=005930&amp;page=8\">8</a>,\n",
       " <a href=\"/item/sise_day.nhn?code=005930&amp;page=9\">9</a>,\n",
       " <a href=\"/item/sise_day.nhn?code=005930&amp;page=10\">10</a>,\n",
       " <a href=\"/item/sise_day.nhn?code=005930&amp;page=11\">\n",
       " \t\t\t\t다음<img alt=\"\" border=\"0\" height=\"5\" src=\"https://ssl.pstatic.net/static/n/cmn/bu_pgarR.gif\" width=\"3\"/>\n",
       " </a>,\n",
       " <a href=\"/item/sise_day.nhn?code=005930&amp;page=588\">맨뒤\n",
       " \t\t\t\t<img alt=\"\" border=\"0\" height=\"5\" src=\"https://ssl.pstatic.net/static/n/cmn/bu_pgarRR.gif\" width=\"8\"/>\n",
       " </a>]"
      ]
     },
     "execution_count": 147,
     "metadata": {},
     "output_type": "execute_result"
    }
   ],
   "source": [
    "bs.find_all('a')"
   ]
  },
  {
   "cell_type": "markdown",
   "metadata": {},
   "source": []
  }
 ],
 "metadata": {
  "kernelspec": {
   "display_name": "Python 3",
   "language": "python",
   "name": "python3"
  },
  "language_info": {
   "codemirror_mode": {
    "name": "ipython",
    "version": 3
   },
   "file_extension": ".py",
   "mimetype": "text/x-python",
   "name": "python",
   "nbconvert_exporter": "python",
   "pygments_lexer": "ipython3",
   "version": "3.6.5"
  }
 },
 "nbformat": 4,
 "nbformat_minor": 2
}
